{
 "cells": [
  {
   "cell_type": "markdown",
   "metadata": {},
   "source": [
    "### Data Analysis with Python: Zero to Pandas - Course Project Guidelines\n",
    "\n",
    "\n",
    "This is the starter notebook for the course project for [Data Analysis with Python: Zero to Pandas](https://jovian.ml/learn/data-analysis-with-python-zero-to-pandas). For the course project, you will pick a real-world dataset of your choice and apply the concepts learned in this course to perform exploratory data analysis. Use this starter notebook as an outline for your project (you can also start with an empty new notebook). Focus on documentation and presentation - this Jupyter notebook will also serve as a project report, so make sure to include detailed explanations whererver possible using Markdown cells.\n",
    "\n",
    "#### Step 1: Select a real-world dataset \n",
    "\n",
    "- Find and download an interesting real-world dataset (see the Recommended Datasets section below for ideas). \n",
    "\n",
    "- The dataset should contain tabular data (rowsn & columns), preferably in CSV/JSON/XLS or other formats that can be read using Pandas. If it's not in a compatible format, you may have to write some code to convert it to a desired format.\n",
    "- The dataset should contain at least 3 columns and 150 rows of data. You can also combine data from multiple sources to create a large enough dataset.\n",
    "\n",
    "\n",
    "#### Step 2: Perform data preparation & cleaning\n",
    "\n",
    "- Load the dataset into a data frame using Pandas\n",
    "- Explore the number of rows & columns, ranges of values etc.\n",
    "- Handle missing, incorrect and invalid data\n",
    "- Perform any additional steps (parsing dates, creating additional columns, merging multiple dataset etc.)\n",
    "\n",
    "\n",
    "#### Step 3: Perform exploratory Analysis & Visualization\n",
    "\n",
    "- Compute the mean, sum, range and other interesting statistics for numeric columns\n",
    "- Explore distributions of numeric columns using histograms etc.\n",
    "- Explore relationship between columns using scatter plots, bar charts etc.\n",
    "- Make a note of interesting insights from the exploratory analysis\n",
    "\n",
    "#### Step 4: Ask & answer questions about the data\n",
    "\n",
    "- Ask at least 5 interesting questions about your dataset\n",
    "- Answer the questions either by computing the results using Numpy/Pandas or by plotting graphs using Matplotlib/Seaborn\n",
    "- Create new columns, merge multiple dataset and perform grouping/aggregation wherever necessary\n",
    "- Wherever you're using a library function from Pandas/Numpy/Matplotlib etc. explain briefly what it does\n",
    "\n",
    "\n",
    "#### Step 5: Summarize your inferences & write a conclusion\n",
    "\n",
    "- Write a summary of what you've learned from the analysis\n",
    "- Include interesting insights and graphs from previous sections\n",
    "- Share ideas for future work on the same topic using other relevant datasets\n",
    "- Share links to resources you found useful during your analysis\n",
    "\n",
    "\n",
    "#### Step 6: Make a submission & share your work\n",
    "\n",
    "- Upload your notebook to your Jovian.ml profile using `jovian.commit`.\n",
    "- **Make a submission here**: https://jovian.ml/learn/data-analysis-with-python-zero-to-pandas/assignment/course-project\n",
    "- Share your work on the forum: https://jovian.ml/forum/t/course-project-on-exploratory-data-analysis-discuss-and-share-your-work/11684\n",
    "\n",
    "- Browse through projects shared by other participants and give feedback\n",
    "\n",
    "\n",
    "#### (Optional) Step 7: Write a blog post\n",
    "\n",
    "- A blog post is a great way to present and showcase your work.  \n",
    "- Sign up on [Medium.com](https://medium.com) to write a blog post for your project.\n",
    "- Copy over the explanations from your Jupyter notebook into your blog post, and [embed code cells & outputs](https://medium.com/jovianml/share-and-embed-jupyter-notebooks-online-with-jovian-ml-df709a03064e)\n",
    "- Check out the Jovian.ml Medium publication for inspiration: https://medium.com/jovianml\n",
    "\n",
    "\n",
    "\n",
    "### Recommended Datasets\n",
    "\n",
    "\n",
    "Use the following resources for finding interesting datasets:\n",
    "\n",
    "- [Recommended datasets for the course project](https://jovian.ml/forum/t/recommended-datasets-for-course-project/11711)\n",
    "- [Kaggle datasets](https://www.kaggle.com/datasets)\n",
    "- [UCI Machine Learning Repository](http://archive.ics.uci.edu/ml/index.php)\n",
    "- [awesome-public-datasets](https://github.com/awesomedata/awesome-public-datasets)\n",
    "- [Google Dataset Search](https://datasetsearch.research.google.com)\n",
    "- [Your personal data from online services](https://www.popsci.com/download-digital-personal-information/)\n",
    "\n",
    "\n",
    "\n",
    "### Example Projects\n",
    "\n",
    "Refer to these projects for inspiration:\n",
    "\n",
    "* [Analyzing your browser history using Pandas & Seaborn](https://medium.com/free-code-camp/understanding-my-browsing-pattern-using-pandas-and-seaborn-162b97e33e51) by Kartik Godawat\n",
    "\n",
    "* [WhatsApp Chat Data Analysis](https://jovian.ml/PrajwalPrashanth/whatsapp-chat-data-analysis) by Prajwal Prashanth\n",
    "\n",
    "* [Analyzing Covid-19 data using Pandas](https://jovian.ml/aakashns/python-pandas-data-analysis) \n",
    "\n",
    "* [Understanding the Gender Divide in Data Science Roles](https://medium.com/datadriveninvestor/exploratory-data-analysis-eda-understanding-the-gender-divide-in-data-science-roles-9faa5da44f5b) by Aakanksha N S\n",
    "\n",
    "* [2019 State of Javscript Survey Results](https://2019.stateofjs.com/demographics/)\n",
    "\n",
    "* [2020 Stack Overflow Developer Survey Results](https://insights.stackoverflow.com/survey/2020)\n",
    "\n",
    "\n",
    "### Evaluation Criteria\n",
    "\n",
    "Your submission will be evaluated using the following criteria:\n",
    "\n",
    "* Dataset must contain at least 3 columns and 150 rows of data\n",
    "* You must ask and answer at least 5 questions about the dataset\n",
    "* Your submission must include at least 5 visualizations (graphs)\n",
    "* Your submission must include explanations using markdown cells, apart from the code.\n",
    "* Your work must not be plagiarized i.e. copy-pasted for somewhere else.\n",
    "\n",
    "\n",
    "**NOTE**: Remove this cell containing the instructions before making your submission. You can do using the \"Edit > Delete Cells\" menu option."
   ]
  },
  {
   "cell_type": "markdown",
   "metadata": {},
   "source": [
    "# Project Title\n",
    "\n",
    "Write some introduction about your project here: describe the dataset, where you got it from, what you're trying to do with it, and which tools & techniques you're using. You can also mention about [the course](http://zerotopandas.com), and what you've learned from it.\n",
    "\n",
    "As a first step, let's upload our Jupyter notebook to [Jovian.ml](https://jovian.ml)."
   ]
  },
  {
   "cell_type": "code",
   "execution_count": 2,
   "metadata": {},
   "outputs": [],
   "source": [
    "project_name = \"zerotopandas-course-project-starter\" # change this\n"
   ]
  },
  {
   "cell_type": "code",
   "execution_count": 2,
   "metadata": {},
   "outputs": [],
   "source": [
    "!pip install jovian --upgrade -q\n"
   ]
  },
  {
   "cell_type": "code",
   "execution_count": 3,
   "metadata": {},
   "outputs": [],
   "source": [
    "import jovian"
   ]
  },
  {
   "cell_type": "code",
   "execution_count": 4,
   "metadata": {},
   "outputs": [
    {
     "data": {
      "application/javascript": [
       "window.require && require([\"base/js/namespace\"],function(Jupyter){Jupyter.notebook.save_checkpoint()})"
      ],
      "text/plain": [
       "<IPython.core.display.Javascript object>"
      ]
     },
     "metadata": {},
     "output_type": "display_data"
    },
    {
     "name": "stdout",
     "output_type": "stream",
     "text": [
      "[jovian] Attempting to save notebook..\u001b[0m\n",
      "[jovian] Updating notebook \"iamshivamshekhar/zerotopandas-course-project-starter\" on https://jovian.ml/\u001b[0m\n",
      "[jovian] Uploading notebook..\u001b[0m\n",
      "[jovian] Capturing environment..\u001b[0m\n",
      "[jovian] Committed successfully! https://jovian.ml/iamshivamshekhar/zerotopandas-course-project-starter\u001b[0m\n"
     ]
    },
    {
     "data": {
      "text/plain": [
       "'https://jovian.ml/iamshivamshekhar/zerotopandas-course-project-starter'"
      ]
     },
     "execution_count": 4,
     "metadata": {},
     "output_type": "execute_result"
    }
   ],
   "source": [
    "jovian.commit(project=project_name)"
   ]
  },
  {
   "cell_type": "markdown",
   "metadata": {},
   "source": [
    "## Data Preparation and Cleaning\n",
    "\n",
    "TODO"
   ]
  },
  {
   "cell_type": "code",
   "execution_count": 5,
   "metadata": {},
   "outputs": [],
   "source": [
    "from urllib.request import urlretrieve"
   ]
  },
  {
   "cell_type": "code",
   "execution_count": 6,
   "metadata": {},
   "outputs": [
    {
     "data": {
      "text/plain": [
       "('dist.csv', <http.client.HTTPMessage at 0x7f3be92b97f0>)"
      ]
     },
     "execution_count": 6,
     "metadata": {},
     "output_type": "execute_result"
    }
   ],
   "source": [
    "urlretrieve('https://api.covid19india.org/csv/latest/districts.csv','dist.csv')"
   ]
  },
  {
   "cell_type": "code",
   "execution_count": 7,
   "metadata": {},
   "outputs": [],
   "source": [
    "import pandas as pd"
   ]
  },
  {
   "cell_type": "code",
   "execution_count": 8,
   "metadata": {},
   "outputs": [],
   "source": [
    "df=pd.read_csv('dist.csv')"
   ]
  },
  {
   "cell_type": "code",
   "execution_count": 9,
   "metadata": {},
   "outputs": [
    {
     "data": {
      "text/html": [
       "<div>\n",
       "<style scoped>\n",
       "    .dataframe tbody tr th:only-of-type {\n",
       "        vertical-align: middle;\n",
       "    }\n",
       "\n",
       "    .dataframe tbody tr th {\n",
       "        vertical-align: top;\n",
       "    }\n",
       "\n",
       "    .dataframe thead th {\n",
       "        text-align: right;\n",
       "    }\n",
       "</style>\n",
       "<table border=\"1\" class=\"dataframe\">\n",
       "  <thead>\n",
       "    <tr style=\"text-align: right;\">\n",
       "      <th></th>\n",
       "      <th>Date</th>\n",
       "      <th>State</th>\n",
       "      <th>District</th>\n",
       "      <th>Confirmed</th>\n",
       "      <th>Recovered</th>\n",
       "      <th>Deceased</th>\n",
       "      <th>Other</th>\n",
       "      <th>Tested</th>\n",
       "    </tr>\n",
       "  </thead>\n",
       "  <tbody>\n",
       "    <tr>\n",
       "      <th>0</th>\n",
       "      <td>2020-04-26</td>\n",
       "      <td>Andaman and Nicobar Islands</td>\n",
       "      <td>Unknown</td>\n",
       "      <td>33</td>\n",
       "      <td>11</td>\n",
       "      <td>0</td>\n",
       "      <td>0</td>\n",
       "      <td>2679.0</td>\n",
       "    </tr>\n",
       "    <tr>\n",
       "      <th>1</th>\n",
       "      <td>2020-04-26</td>\n",
       "      <td>Andhra Pradesh</td>\n",
       "      <td>Anantapur</td>\n",
       "      <td>53</td>\n",
       "      <td>14</td>\n",
       "      <td>4</td>\n",
       "      <td>0</td>\n",
       "      <td>NaN</td>\n",
       "    </tr>\n",
       "    <tr>\n",
       "      <th>2</th>\n",
       "      <td>2020-04-26</td>\n",
       "      <td>Andhra Pradesh</td>\n",
       "      <td>Chittoor</td>\n",
       "      <td>73</td>\n",
       "      <td>13</td>\n",
       "      <td>0</td>\n",
       "      <td>0</td>\n",
       "      <td>NaN</td>\n",
       "    </tr>\n",
       "    <tr>\n",
       "      <th>3</th>\n",
       "      <td>2020-04-26</td>\n",
       "      <td>Andhra Pradesh</td>\n",
       "      <td>East Godavari</td>\n",
       "      <td>39</td>\n",
       "      <td>12</td>\n",
       "      <td>0</td>\n",
       "      <td>0</td>\n",
       "      <td>NaN</td>\n",
       "    </tr>\n",
       "    <tr>\n",
       "      <th>4</th>\n",
       "      <td>2020-04-26</td>\n",
       "      <td>Andhra Pradesh</td>\n",
       "      <td>Guntur</td>\n",
       "      <td>214</td>\n",
       "      <td>29</td>\n",
       "      <td>8</td>\n",
       "      <td>0</td>\n",
       "      <td>NaN</td>\n",
       "    </tr>\n",
       "    <tr>\n",
       "      <th>...</th>\n",
       "      <td>...</td>\n",
       "      <td>...</td>\n",
       "      <td>...</td>\n",
       "      <td>...</td>\n",
       "      <td>...</td>\n",
       "      <td>...</td>\n",
       "      <td>...</td>\n",
       "      <td>...</td>\n",
       "    </tr>\n",
       "    <tr>\n",
       "      <th>94987</th>\n",
       "      <td>2020-09-25</td>\n",
       "      <td>West Bengal</td>\n",
       "      <td>Purba Bardhaman</td>\n",
       "      <td>4582</td>\n",
       "      <td>3867</td>\n",
       "      <td>45</td>\n",
       "      <td>0</td>\n",
       "      <td>NaN</td>\n",
       "    </tr>\n",
       "    <tr>\n",
       "      <th>94988</th>\n",
       "      <td>2020-09-25</td>\n",
       "      <td>West Bengal</td>\n",
       "      <td>Purba Medinipur</td>\n",
       "      <td>10005</td>\n",
       "      <td>8793</td>\n",
       "      <td>119</td>\n",
       "      <td>0</td>\n",
       "      <td>NaN</td>\n",
       "    </tr>\n",
       "    <tr>\n",
       "      <th>94989</th>\n",
       "      <td>2020-09-25</td>\n",
       "      <td>West Bengal</td>\n",
       "      <td>Purulia</td>\n",
       "      <td>3086</td>\n",
       "      <td>2445</td>\n",
       "      <td>17</td>\n",
       "      <td>0</td>\n",
       "      <td>NaN</td>\n",
       "    </tr>\n",
       "    <tr>\n",
       "      <th>94990</th>\n",
       "      <td>2020-09-25</td>\n",
       "      <td>West Bengal</td>\n",
       "      <td>South 24 Parganas</td>\n",
       "      <td>15994</td>\n",
       "      <td>14086</td>\n",
       "      <td>293</td>\n",
       "      <td>0</td>\n",
       "      <td>NaN</td>\n",
       "    </tr>\n",
       "    <tr>\n",
       "      <th>94991</th>\n",
       "      <td>2020-09-25</td>\n",
       "      <td>West Bengal</td>\n",
       "      <td>Uttar Dinajpur</td>\n",
       "      <td>3317</td>\n",
       "      <td>2936</td>\n",
       "      <td>35</td>\n",
       "      <td>0</td>\n",
       "      <td>NaN</td>\n",
       "    </tr>\n",
       "  </tbody>\n",
       "</table>\n",
       "<p>94992 rows × 8 columns</p>\n",
       "</div>"
      ],
      "text/plain": [
       "             Date                        State           District  Confirmed  \\\n",
       "0      2020-04-26  Andaman and Nicobar Islands            Unknown         33   \n",
       "1      2020-04-26               Andhra Pradesh          Anantapur         53   \n",
       "2      2020-04-26               Andhra Pradesh           Chittoor         73   \n",
       "3      2020-04-26               Andhra Pradesh      East Godavari         39   \n",
       "4      2020-04-26               Andhra Pradesh             Guntur        214   \n",
       "...           ...                          ...                ...        ...   \n",
       "94987  2020-09-25                  West Bengal    Purba Bardhaman       4582   \n",
       "94988  2020-09-25                  West Bengal    Purba Medinipur      10005   \n",
       "94989  2020-09-25                  West Bengal            Purulia       3086   \n",
       "94990  2020-09-25                  West Bengal  South 24 Parganas      15994   \n",
       "94991  2020-09-25                  West Bengal     Uttar Dinajpur       3317   \n",
       "\n",
       "       Recovered  Deceased  Other  Tested  \n",
       "0             11         0      0  2679.0  \n",
       "1             14         4      0     NaN  \n",
       "2             13         0      0     NaN  \n",
       "3             12         0      0     NaN  \n",
       "4             29         8      0     NaN  \n",
       "...          ...       ...    ...     ...  \n",
       "94987       3867        45      0     NaN  \n",
       "94988       8793       119      0     NaN  \n",
       "94989       2445        17      0     NaN  \n",
       "94990      14086       293      0     NaN  \n",
       "94991       2936        35      0     NaN  \n",
       "\n",
       "[94992 rows x 8 columns]"
      ]
     },
     "execution_count": 9,
     "metadata": {},
     "output_type": "execute_result"
    }
   ],
   "source": [
    "df"
   ]
  },
  {
   "cell_type": "code",
   "execution_count": 10,
   "metadata": {},
   "outputs": [
    {
     "name": "stdout",
     "output_type": "stream",
     "text": [
      "<class 'pandas.core.frame.DataFrame'>\n",
      "RangeIndex: 94992 entries, 0 to 94991\n",
      "Data columns (total 8 columns):\n",
      " #   Column     Non-Null Count  Dtype  \n",
      "---  ------     --------------  -----  \n",
      " 0   Date       94992 non-null  object \n",
      " 1   State      94992 non-null  object \n",
      " 2   District   94992 non-null  object \n",
      " 3   Confirmed  94992 non-null  int64  \n",
      " 4   Recovered  94992 non-null  int64  \n",
      " 5   Deceased   94992 non-null  int64  \n",
      " 6   Other      94992 non-null  int64  \n",
      " 7   Tested     56031 non-null  float64\n",
      "dtypes: float64(1), int64(4), object(3)\n",
      "memory usage: 5.8+ MB\n"
     ]
    }
   ],
   "source": [
    "df.info()"
   ]
  },
  {
   "cell_type": "code",
   "execution_count": 11,
   "metadata": {},
   "outputs": [
    {
     "data": {
      "text/plain": [
       "(94992, 8)"
      ]
     },
     "execution_count": 11,
     "metadata": {},
     "output_type": "execute_result"
    }
   ],
   "source": [
    "df.shape\n"
   ]
  },
  {
   "cell_type": "code",
   "execution_count": 12,
   "metadata": {},
   "outputs": [
    {
     "data": {
      "text/html": [
       "<div>\n",
       "<style scoped>\n",
       "    .dataframe tbody tr th:only-of-type {\n",
       "        vertical-align: middle;\n",
       "    }\n",
       "\n",
       "    .dataframe tbody tr th {\n",
       "        vertical-align: top;\n",
       "    }\n",
       "\n",
       "    .dataframe thead th {\n",
       "        text-align: right;\n",
       "    }\n",
       "</style>\n",
       "<table border=\"1\" class=\"dataframe\">\n",
       "  <thead>\n",
       "    <tr style=\"text-align: right;\">\n",
       "      <th></th>\n",
       "      <th>Confirmed</th>\n",
       "      <th>Recovered</th>\n",
       "      <th>Deceased</th>\n",
       "      <th>Other</th>\n",
       "      <th>Tested</th>\n",
       "    </tr>\n",
       "  </thead>\n",
       "  <tbody>\n",
       "    <tr>\n",
       "      <th>count</th>\n",
       "      <td>94992.000000</td>\n",
       "      <td>94992.000000</td>\n",
       "      <td>94992.000000</td>\n",
       "      <td>94992.000000</td>\n",
       "      <td>5.603100e+04</td>\n",
       "    </tr>\n",
       "    <tr>\n",
       "      <th>mean</th>\n",
       "      <td>2634.633706</td>\n",
       "      <td>1932.390970</td>\n",
       "      <td>50.787193</td>\n",
       "      <td>0.457428</td>\n",
       "      <td>4.327324e+04</td>\n",
       "    </tr>\n",
       "    <tr>\n",
       "      <th>std</th>\n",
       "      <td>11767.237997</td>\n",
       "      <td>9187.303905</td>\n",
       "      <td>317.546631</td>\n",
       "      <td>9.281296</td>\n",
       "      <td>1.309470e+05</td>\n",
       "    </tr>\n",
       "    <tr>\n",
       "      <th>min</th>\n",
       "      <td>-3.000000</td>\n",
       "      <td>-67.000000</td>\n",
       "      <td>-11.000000</td>\n",
       "      <td>-3.000000</td>\n",
       "      <td>1.000000e+00</td>\n",
       "    </tr>\n",
       "    <tr>\n",
       "      <th>25%</th>\n",
       "      <td>50.000000</td>\n",
       "      <td>25.000000</td>\n",
       "      <td>0.000000</td>\n",
       "      <td>0.000000</td>\n",
       "      <td>4.383000e+03</td>\n",
       "    </tr>\n",
       "    <tr>\n",
       "      <th>50%</th>\n",
       "      <td>276.000000</td>\n",
       "      <td>172.000000</td>\n",
       "      <td>2.000000</td>\n",
       "      <td>0.000000</td>\n",
       "      <td>1.361800e+04</td>\n",
       "    </tr>\n",
       "    <tr>\n",
       "      <th>75%</th>\n",
       "      <td>1338.250000</td>\n",
       "      <td>891.000000</td>\n",
       "      <td>15.000000</td>\n",
       "      <td>0.000000</td>\n",
       "      <td>3.804100e+04</td>\n",
       "    </tr>\n",
       "    <tr>\n",
       "      <th>max</th>\n",
       "      <td>274421.000000</td>\n",
       "      <td>224375.000000</td>\n",
       "      <td>8658.000000</td>\n",
       "      <td>390.000000</td>\n",
       "      <td>3.050501e+06</td>\n",
       "    </tr>\n",
       "  </tbody>\n",
       "</table>\n",
       "</div>"
      ],
      "text/plain": [
       "           Confirmed      Recovered      Deceased         Other        Tested\n",
       "count   94992.000000   94992.000000  94992.000000  94992.000000  5.603100e+04\n",
       "mean     2634.633706    1932.390970     50.787193      0.457428  4.327324e+04\n",
       "std     11767.237997    9187.303905    317.546631      9.281296  1.309470e+05\n",
       "min        -3.000000     -67.000000    -11.000000     -3.000000  1.000000e+00\n",
       "25%        50.000000      25.000000      0.000000      0.000000  4.383000e+03\n",
       "50%       276.000000     172.000000      2.000000      0.000000  1.361800e+04\n",
       "75%      1338.250000     891.000000     15.000000      0.000000  3.804100e+04\n",
       "max    274421.000000  224375.000000   8658.000000    390.000000  3.050501e+06"
      ]
     },
     "execution_count": 12,
     "metadata": {},
     "output_type": "execute_result"
    }
   ],
   "source": [
    "df.describe()"
   ]
  },
  {
   "cell_type": "code",
   "execution_count": 13,
   "metadata": {},
   "outputs": [],
   "source": [
    "import jovian"
   ]
  },
  {
   "cell_type": "code",
   "execution_count": 14,
   "metadata": {},
   "outputs": [
    {
     "data": {
      "application/javascript": [
       "window.require && require([\"base/js/namespace\"],function(Jupyter){Jupyter.notebook.save_checkpoint()})"
      ],
      "text/plain": [
       "<IPython.core.display.Javascript object>"
      ]
     },
     "metadata": {},
     "output_type": "display_data"
    },
    {
     "name": "stdout",
     "output_type": "stream",
     "text": [
      "[jovian] Attempting to save notebook..\u001b[0m\n",
      "[jovian] Updating notebook \"iamshivamshekhar/zerotopandas-course-project-starter\" on https://jovian.ml/\u001b[0m\n",
      "[jovian] Uploading notebook..\u001b[0m\n",
      "[jovian] Capturing environment..\u001b[0m\n",
      "[jovian] Committed successfully! https://jovian.ml/iamshivamshekhar/zerotopandas-course-project-starter\u001b[0m\n"
     ]
    },
    {
     "data": {
      "text/plain": [
       "'https://jovian.ml/iamshivamshekhar/zerotopandas-course-project-starter'"
      ]
     },
     "execution_count": 14,
     "metadata": {},
     "output_type": "execute_result"
    }
   ],
   "source": [
    "jovian.commit()"
   ]
  },
  {
   "cell_type": "code",
   "execution_count": 15,
   "metadata": {},
   "outputs": [
    {
     "data": {
      "text/plain": [
       "Index(['Date', 'State', 'District', 'Confirmed', 'Recovered', 'Deceased',\n",
       "       'Other', 'Tested'],\n",
       "      dtype='object')"
      ]
     },
     "execution_count": 15,
     "metadata": {},
     "output_type": "execute_result"
    }
   ],
   "source": [
    "df.columns"
   ]
  },
  {
   "cell_type": "code",
   "execution_count": null,
   "metadata": {},
   "outputs": [],
   "source": []
  },
  {
   "cell_type": "code",
   "execution_count": 16,
   "metadata": {},
   "outputs": [
    {
     "data": {
      "text/html": [
       "<div>\n",
       "<style scoped>\n",
       "    .dataframe tbody tr th:only-of-type {\n",
       "        vertical-align: middle;\n",
       "    }\n",
       "\n",
       "    .dataframe tbody tr th {\n",
       "        vertical-align: top;\n",
       "    }\n",
       "\n",
       "    .dataframe thead th {\n",
       "        text-align: right;\n",
       "    }\n",
       "</style>\n",
       "<table border=\"1\" class=\"dataframe\">\n",
       "  <thead>\n",
       "    <tr style=\"text-align: right;\">\n",
       "      <th></th>\n",
       "      <th>Date</th>\n",
       "      <th>State</th>\n",
       "      <th>District</th>\n",
       "      <th>Confirmed</th>\n",
       "      <th>Recovered</th>\n",
       "      <th>Deceased</th>\n",
       "      <th>Other</th>\n",
       "      <th>Tested</th>\n",
       "    </tr>\n",
       "  </thead>\n",
       "  <tbody>\n",
       "    <tr>\n",
       "      <th>0</th>\n",
       "      <td>2020-04-26</td>\n",
       "      <td>Andaman and Nicobar Islands</td>\n",
       "      <td>Unknown</td>\n",
       "      <td>33</td>\n",
       "      <td>11</td>\n",
       "      <td>0</td>\n",
       "      <td>0</td>\n",
       "      <td>2679.0</td>\n",
       "    </tr>\n",
       "    <tr>\n",
       "      <th>1</th>\n",
       "      <td>2020-04-26</td>\n",
       "      <td>Andhra Pradesh</td>\n",
       "      <td>Anantapur</td>\n",
       "      <td>53</td>\n",
       "      <td>14</td>\n",
       "      <td>4</td>\n",
       "      <td>0</td>\n",
       "      <td>NaN</td>\n",
       "    </tr>\n",
       "    <tr>\n",
       "      <th>2</th>\n",
       "      <td>2020-04-26</td>\n",
       "      <td>Andhra Pradesh</td>\n",
       "      <td>Chittoor</td>\n",
       "      <td>73</td>\n",
       "      <td>13</td>\n",
       "      <td>0</td>\n",
       "      <td>0</td>\n",
       "      <td>NaN</td>\n",
       "    </tr>\n",
       "    <tr>\n",
       "      <th>3</th>\n",
       "      <td>2020-04-26</td>\n",
       "      <td>Andhra Pradesh</td>\n",
       "      <td>East Godavari</td>\n",
       "      <td>39</td>\n",
       "      <td>12</td>\n",
       "      <td>0</td>\n",
       "      <td>0</td>\n",
       "      <td>NaN</td>\n",
       "    </tr>\n",
       "    <tr>\n",
       "      <th>4</th>\n",
       "      <td>2020-04-26</td>\n",
       "      <td>Andhra Pradesh</td>\n",
       "      <td>Guntur</td>\n",
       "      <td>214</td>\n",
       "      <td>29</td>\n",
       "      <td>8</td>\n",
       "      <td>0</td>\n",
       "      <td>NaN</td>\n",
       "    </tr>\n",
       "    <tr>\n",
       "      <th>...</th>\n",
       "      <td>...</td>\n",
       "      <td>...</td>\n",
       "      <td>...</td>\n",
       "      <td>...</td>\n",
       "      <td>...</td>\n",
       "      <td>...</td>\n",
       "      <td>...</td>\n",
       "      <td>...</td>\n",
       "    </tr>\n",
       "    <tr>\n",
       "      <th>94987</th>\n",
       "      <td>2020-09-25</td>\n",
       "      <td>West Bengal</td>\n",
       "      <td>Purba Bardhaman</td>\n",
       "      <td>4582</td>\n",
       "      <td>3867</td>\n",
       "      <td>45</td>\n",
       "      <td>0</td>\n",
       "      <td>NaN</td>\n",
       "    </tr>\n",
       "    <tr>\n",
       "      <th>94988</th>\n",
       "      <td>2020-09-25</td>\n",
       "      <td>West Bengal</td>\n",
       "      <td>Purba Medinipur</td>\n",
       "      <td>10005</td>\n",
       "      <td>8793</td>\n",
       "      <td>119</td>\n",
       "      <td>0</td>\n",
       "      <td>NaN</td>\n",
       "    </tr>\n",
       "    <tr>\n",
       "      <th>94989</th>\n",
       "      <td>2020-09-25</td>\n",
       "      <td>West Bengal</td>\n",
       "      <td>Purulia</td>\n",
       "      <td>3086</td>\n",
       "      <td>2445</td>\n",
       "      <td>17</td>\n",
       "      <td>0</td>\n",
       "      <td>NaN</td>\n",
       "    </tr>\n",
       "    <tr>\n",
       "      <th>94990</th>\n",
       "      <td>2020-09-25</td>\n",
       "      <td>West Bengal</td>\n",
       "      <td>South 24 Parganas</td>\n",
       "      <td>15994</td>\n",
       "      <td>14086</td>\n",
       "      <td>293</td>\n",
       "      <td>0</td>\n",
       "      <td>NaN</td>\n",
       "    </tr>\n",
       "    <tr>\n",
       "      <th>94991</th>\n",
       "      <td>2020-09-25</td>\n",
       "      <td>West Bengal</td>\n",
       "      <td>Uttar Dinajpur</td>\n",
       "      <td>3317</td>\n",
       "      <td>2936</td>\n",
       "      <td>35</td>\n",
       "      <td>0</td>\n",
       "      <td>NaN</td>\n",
       "    </tr>\n",
       "  </tbody>\n",
       "</table>\n",
       "<p>94992 rows × 8 columns</p>\n",
       "</div>"
      ],
      "text/plain": [
       "             Date                        State           District  Confirmed  \\\n",
       "0      2020-04-26  Andaman and Nicobar Islands            Unknown         33   \n",
       "1      2020-04-26               Andhra Pradesh          Anantapur         53   \n",
       "2      2020-04-26               Andhra Pradesh           Chittoor         73   \n",
       "3      2020-04-26               Andhra Pradesh      East Godavari         39   \n",
       "4      2020-04-26               Andhra Pradesh             Guntur        214   \n",
       "...           ...                          ...                ...        ...   \n",
       "94987  2020-09-25                  West Bengal    Purba Bardhaman       4582   \n",
       "94988  2020-09-25                  West Bengal    Purba Medinipur      10005   \n",
       "94989  2020-09-25                  West Bengal            Purulia       3086   \n",
       "94990  2020-09-25                  West Bengal  South 24 Parganas      15994   \n",
       "94991  2020-09-25                  West Bengal     Uttar Dinajpur       3317   \n",
       "\n",
       "       Recovered  Deceased  Other  Tested  \n",
       "0             11         0      0  2679.0  \n",
       "1             14         4      0     NaN  \n",
       "2             13         0      0     NaN  \n",
       "3             12         0      0     NaN  \n",
       "4             29         8      0     NaN  \n",
       "...          ...       ...    ...     ...  \n",
       "94987       3867        45      0     NaN  \n",
       "94988       8793       119      0     NaN  \n",
       "94989       2445        17      0     NaN  \n",
       "94990      14086       293      0     NaN  \n",
       "94991       2936        35      0     NaN  \n",
       "\n",
       "[94992 rows x 8 columns]"
      ]
     },
     "execution_count": 16,
     "metadata": {},
     "output_type": "execute_result"
    }
   ],
   "source": [
    "df"
   ]
  },
  {
   "cell_type": "code",
   "execution_count": 17,
   "metadata": {},
   "outputs": [],
   "source": [
    "df.drop(df.loc[df['District']=='Unknown'].index, inplace=True)"
   ]
  },
  {
   "cell_type": "code",
   "execution_count": 18,
   "metadata": {},
   "outputs": [
    {
     "data": {
      "text/html": [
       "<div>\n",
       "<style scoped>\n",
       "    .dataframe tbody tr th:only-of-type {\n",
       "        vertical-align: middle;\n",
       "    }\n",
       "\n",
       "    .dataframe tbody tr th {\n",
       "        vertical-align: top;\n",
       "    }\n",
       "\n",
       "    .dataframe thead th {\n",
       "        text-align: right;\n",
       "    }\n",
       "</style>\n",
       "<table border=\"1\" class=\"dataframe\">\n",
       "  <thead>\n",
       "    <tr style=\"text-align: right;\">\n",
       "      <th></th>\n",
       "      <th>Date</th>\n",
       "      <th>State</th>\n",
       "      <th>District</th>\n",
       "      <th>Confirmed</th>\n",
       "      <th>Recovered</th>\n",
       "      <th>Deceased</th>\n",
       "      <th>Other</th>\n",
       "      <th>Tested</th>\n",
       "    </tr>\n",
       "  </thead>\n",
       "  <tbody>\n",
       "    <tr>\n",
       "      <th>1</th>\n",
       "      <td>2020-04-26</td>\n",
       "      <td>Andhra Pradesh</td>\n",
       "      <td>Anantapur</td>\n",
       "      <td>53</td>\n",
       "      <td>14</td>\n",
       "      <td>4</td>\n",
       "      <td>0</td>\n",
       "      <td>NaN</td>\n",
       "    </tr>\n",
       "    <tr>\n",
       "      <th>2</th>\n",
       "      <td>2020-04-26</td>\n",
       "      <td>Andhra Pradesh</td>\n",
       "      <td>Chittoor</td>\n",
       "      <td>73</td>\n",
       "      <td>13</td>\n",
       "      <td>0</td>\n",
       "      <td>0</td>\n",
       "      <td>NaN</td>\n",
       "    </tr>\n",
       "    <tr>\n",
       "      <th>3</th>\n",
       "      <td>2020-04-26</td>\n",
       "      <td>Andhra Pradesh</td>\n",
       "      <td>East Godavari</td>\n",
       "      <td>39</td>\n",
       "      <td>12</td>\n",
       "      <td>0</td>\n",
       "      <td>0</td>\n",
       "      <td>NaN</td>\n",
       "    </tr>\n",
       "    <tr>\n",
       "      <th>4</th>\n",
       "      <td>2020-04-26</td>\n",
       "      <td>Andhra Pradesh</td>\n",
       "      <td>Guntur</td>\n",
       "      <td>214</td>\n",
       "      <td>29</td>\n",
       "      <td>8</td>\n",
       "      <td>0</td>\n",
       "      <td>NaN</td>\n",
       "    </tr>\n",
       "    <tr>\n",
       "      <th>5</th>\n",
       "      <td>2020-04-26</td>\n",
       "      <td>Andhra Pradesh</td>\n",
       "      <td>Krishna</td>\n",
       "      <td>177</td>\n",
       "      <td>29</td>\n",
       "      <td>8</td>\n",
       "      <td>0</td>\n",
       "      <td>NaN</td>\n",
       "    </tr>\n",
       "    <tr>\n",
       "      <th>...</th>\n",
       "      <td>...</td>\n",
       "      <td>...</td>\n",
       "      <td>...</td>\n",
       "      <td>...</td>\n",
       "      <td>...</td>\n",
       "      <td>...</td>\n",
       "      <td>...</td>\n",
       "      <td>...</td>\n",
       "    </tr>\n",
       "    <tr>\n",
       "      <th>94987</th>\n",
       "      <td>2020-09-25</td>\n",
       "      <td>West Bengal</td>\n",
       "      <td>Purba Bardhaman</td>\n",
       "      <td>4582</td>\n",
       "      <td>3867</td>\n",
       "      <td>45</td>\n",
       "      <td>0</td>\n",
       "      <td>NaN</td>\n",
       "    </tr>\n",
       "    <tr>\n",
       "      <th>94988</th>\n",
       "      <td>2020-09-25</td>\n",
       "      <td>West Bengal</td>\n",
       "      <td>Purba Medinipur</td>\n",
       "      <td>10005</td>\n",
       "      <td>8793</td>\n",
       "      <td>119</td>\n",
       "      <td>0</td>\n",
       "      <td>NaN</td>\n",
       "    </tr>\n",
       "    <tr>\n",
       "      <th>94989</th>\n",
       "      <td>2020-09-25</td>\n",
       "      <td>West Bengal</td>\n",
       "      <td>Purulia</td>\n",
       "      <td>3086</td>\n",
       "      <td>2445</td>\n",
       "      <td>17</td>\n",
       "      <td>0</td>\n",
       "      <td>NaN</td>\n",
       "    </tr>\n",
       "    <tr>\n",
       "      <th>94990</th>\n",
       "      <td>2020-09-25</td>\n",
       "      <td>West Bengal</td>\n",
       "      <td>South 24 Parganas</td>\n",
       "      <td>15994</td>\n",
       "      <td>14086</td>\n",
       "      <td>293</td>\n",
       "      <td>0</td>\n",
       "      <td>NaN</td>\n",
       "    </tr>\n",
       "    <tr>\n",
       "      <th>94991</th>\n",
       "      <td>2020-09-25</td>\n",
       "      <td>West Bengal</td>\n",
       "      <td>Uttar Dinajpur</td>\n",
       "      <td>3317</td>\n",
       "      <td>2936</td>\n",
       "      <td>35</td>\n",
       "      <td>0</td>\n",
       "      <td>NaN</td>\n",
       "    </tr>\n",
       "  </tbody>\n",
       "</table>\n",
       "<p>93750 rows × 8 columns</p>\n",
       "</div>"
      ],
      "text/plain": [
       "             Date           State           District  Confirmed  Recovered  \\\n",
       "1      2020-04-26  Andhra Pradesh          Anantapur         53         14   \n",
       "2      2020-04-26  Andhra Pradesh           Chittoor         73         13   \n",
       "3      2020-04-26  Andhra Pradesh      East Godavari         39         12   \n",
       "4      2020-04-26  Andhra Pradesh             Guntur        214         29   \n",
       "5      2020-04-26  Andhra Pradesh            Krishna        177         29   \n",
       "...           ...             ...                ...        ...        ...   \n",
       "94987  2020-09-25     West Bengal    Purba Bardhaman       4582       3867   \n",
       "94988  2020-09-25     West Bengal    Purba Medinipur      10005       8793   \n",
       "94989  2020-09-25     West Bengal            Purulia       3086       2445   \n",
       "94990  2020-09-25     West Bengal  South 24 Parganas      15994      14086   \n",
       "94991  2020-09-25     West Bengal     Uttar Dinajpur       3317       2936   \n",
       "\n",
       "       Deceased  Other  Tested  \n",
       "1             4      0     NaN  \n",
       "2             0      0     NaN  \n",
       "3             0      0     NaN  \n",
       "4             8      0     NaN  \n",
       "5             8      0     NaN  \n",
       "...         ...    ...     ...  \n",
       "94987        45      0     NaN  \n",
       "94988       119      0     NaN  \n",
       "94989        17      0     NaN  \n",
       "94990       293      0     NaN  \n",
       "94991        35      0     NaN  \n",
       "\n",
       "[93750 rows x 8 columns]"
      ]
     },
     "execution_count": 18,
     "metadata": {},
     "output_type": "execute_result"
    }
   ],
   "source": [
    "df\n"
   ]
  },
  {
   "cell_type": "code",
   "execution_count": 19,
   "metadata": {},
   "outputs": [],
   "source": [
    "df.dropna(subset=['Tested'],inplace=True)"
   ]
  },
  {
   "cell_type": "code",
   "execution_count": 20,
   "metadata": {},
   "outputs": [
    {
     "data": {
      "text/html": [
       "<div>\n",
       "<style scoped>\n",
       "    .dataframe tbody tr th:only-of-type {\n",
       "        vertical-align: middle;\n",
       "    }\n",
       "\n",
       "    .dataframe tbody tr th {\n",
       "        vertical-align: top;\n",
       "    }\n",
       "\n",
       "    .dataframe thead th {\n",
       "        text-align: right;\n",
       "    }\n",
       "</style>\n",
       "<table border=\"1\" class=\"dataframe\">\n",
       "  <thead>\n",
       "    <tr style=\"text-align: right;\">\n",
       "      <th></th>\n",
       "      <th>Date</th>\n",
       "      <th>State</th>\n",
       "      <th>District</th>\n",
       "      <th>Confirmed</th>\n",
       "      <th>Recovered</th>\n",
       "      <th>Deceased</th>\n",
       "      <th>Other</th>\n",
       "      <th>Tested</th>\n",
       "    </tr>\n",
       "  </thead>\n",
       "  <tbody>\n",
       "    <tr>\n",
       "      <th>37</th>\n",
       "      <td>2020-04-26</td>\n",
       "      <td>Chandigarh</td>\n",
       "      <td>Chandigarh</td>\n",
       "      <td>36</td>\n",
       "      <td>17</td>\n",
       "      <td>0</td>\n",
       "      <td>0</td>\n",
       "      <td>756.0</td>\n",
       "    </tr>\n",
       "    <tr>\n",
       "      <th>43</th>\n",
       "      <td>2020-04-26</td>\n",
       "      <td>Delhi</td>\n",
       "      <td>Delhi</td>\n",
       "      <td>2918</td>\n",
       "      <td>877</td>\n",
       "      <td>54</td>\n",
       "      <td>0</td>\n",
       "      <td>37613.0</td>\n",
       "    </tr>\n",
       "    <tr>\n",
       "      <th>168</th>\n",
       "      <td>2020-04-26</td>\n",
       "      <td>Maharashtra</td>\n",
       "      <td>Aurangabad</td>\n",
       "      <td>50</td>\n",
       "      <td>22</td>\n",
       "      <td>5</td>\n",
       "      <td>0</td>\n",
       "      <td>2431.0</td>\n",
       "    </tr>\n",
       "    <tr>\n",
       "      <th>274</th>\n",
       "      <td>2020-04-26</td>\n",
       "      <td>Rajasthan</td>\n",
       "      <td>Jaipur</td>\n",
       "      <td>808</td>\n",
       "      <td>222</td>\n",
       "      <td>21</td>\n",
       "      <td>0</td>\n",
       "      <td>17852.0</td>\n",
       "    </tr>\n",
       "    <tr>\n",
       "      <th>278</th>\n",
       "      <td>2020-04-26</td>\n",
       "      <td>Rajasthan</td>\n",
       "      <td>Jodhpur</td>\n",
       "      <td>364</td>\n",
       "      <td>50</td>\n",
       "      <td>5</td>\n",
       "      <td>0</td>\n",
       "      <td>14436.0</td>\n",
       "    </tr>\n",
       "    <tr>\n",
       "      <th>...</th>\n",
       "      <td>...</td>\n",
       "      <td>...</td>\n",
       "      <td>...</td>\n",
       "      <td>...</td>\n",
       "      <td>...</td>\n",
       "      <td>...</td>\n",
       "      <td>...</td>\n",
       "      <td>...</td>\n",
       "    </tr>\n",
       "    <tr>\n",
       "      <th>94963</th>\n",
       "      <td>2020-09-25</td>\n",
       "      <td>Uttarakhand</td>\n",
       "      <td>Pithoragarh</td>\n",
       "      <td>970</td>\n",
       "      <td>649</td>\n",
       "      <td>4</td>\n",
       "      <td>0</td>\n",
       "      <td>30581.0</td>\n",
       "    </tr>\n",
       "    <tr>\n",
       "      <th>94964</th>\n",
       "      <td>2020-09-25</td>\n",
       "      <td>Uttarakhand</td>\n",
       "      <td>Rudraprayag</td>\n",
       "      <td>635</td>\n",
       "      <td>489</td>\n",
       "      <td>1</td>\n",
       "      <td>1</td>\n",
       "      <td>20563.0</td>\n",
       "    </tr>\n",
       "    <tr>\n",
       "      <th>94965</th>\n",
       "      <td>2020-09-25</td>\n",
       "      <td>Uttarakhand</td>\n",
       "      <td>Tehri Garhwal</td>\n",
       "      <td>2106</td>\n",
       "      <td>1815</td>\n",
       "      <td>3</td>\n",
       "      <td>4</td>\n",
       "      <td>45389.0</td>\n",
       "    </tr>\n",
       "    <tr>\n",
       "      <th>94966</th>\n",
       "      <td>2020-09-25</td>\n",
       "      <td>Uttarakhand</td>\n",
       "      <td>Udham Singh Nagar</td>\n",
       "      <td>7972</td>\n",
       "      <td>6476</td>\n",
       "      <td>55</td>\n",
       "      <td>70</td>\n",
       "      <td>101458.0</td>\n",
       "    </tr>\n",
       "    <tr>\n",
       "      <th>94967</th>\n",
       "      <td>2020-09-25</td>\n",
       "      <td>Uttarakhand</td>\n",
       "      <td>Uttarkashi</td>\n",
       "      <td>1766</td>\n",
       "      <td>1324</td>\n",
       "      <td>6</td>\n",
       "      <td>14</td>\n",
       "      <td>43068.0</td>\n",
       "    </tr>\n",
       "  </tbody>\n",
       "</table>\n",
       "<p>55121 rows × 8 columns</p>\n",
       "</div>"
      ],
      "text/plain": [
       "             Date        State           District  Confirmed  Recovered  \\\n",
       "37     2020-04-26   Chandigarh         Chandigarh         36         17   \n",
       "43     2020-04-26        Delhi              Delhi       2918        877   \n",
       "168    2020-04-26  Maharashtra         Aurangabad         50         22   \n",
       "274    2020-04-26    Rajasthan             Jaipur        808        222   \n",
       "278    2020-04-26    Rajasthan            Jodhpur        364         50   \n",
       "...           ...          ...                ...        ...        ...   \n",
       "94963  2020-09-25  Uttarakhand        Pithoragarh        970        649   \n",
       "94964  2020-09-25  Uttarakhand        Rudraprayag        635        489   \n",
       "94965  2020-09-25  Uttarakhand      Tehri Garhwal       2106       1815   \n",
       "94966  2020-09-25  Uttarakhand  Udham Singh Nagar       7972       6476   \n",
       "94967  2020-09-25  Uttarakhand         Uttarkashi       1766       1324   \n",
       "\n",
       "       Deceased  Other    Tested  \n",
       "37            0      0     756.0  \n",
       "43           54      0   37613.0  \n",
       "168           5      0    2431.0  \n",
       "274          21      0   17852.0  \n",
       "278           5      0   14436.0  \n",
       "...         ...    ...       ...  \n",
       "94963         4      0   30581.0  \n",
       "94964         1      1   20563.0  \n",
       "94965         3      4   45389.0  \n",
       "94966        55     70  101458.0  \n",
       "94967         6     14   43068.0  \n",
       "\n",
       "[55121 rows x 8 columns]"
      ]
     },
     "execution_count": 20,
     "metadata": {},
     "output_type": "execute_result"
    }
   ],
   "source": [
    "df"
   ]
  },
  {
   "cell_type": "code",
   "execution_count": 21,
   "metadata": {},
   "outputs": [],
   "source": [
    "import jovian"
   ]
  },
  {
   "cell_type": "code",
   "execution_count": 22,
   "metadata": {},
   "outputs": [
    {
     "data": {
      "application/javascript": [
       "window.require && require([\"base/js/namespace\"],function(Jupyter){Jupyter.notebook.save_checkpoint()})"
      ],
      "text/plain": [
       "<IPython.core.display.Javascript object>"
      ]
     },
     "metadata": {},
     "output_type": "display_data"
    },
    {
     "name": "stdout",
     "output_type": "stream",
     "text": [
      "[jovian] Attempting to save notebook..\u001b[0m\n",
      "[jovian] Updating notebook \"iamshivamshekhar/zerotopandas-course-project-starter\" on https://jovian.ml/\u001b[0m\n",
      "[jovian] Uploading notebook..\u001b[0m\n",
      "[jovian] Capturing environment..\u001b[0m\n",
      "[jovian] Committed successfully! https://jovian.ml/iamshivamshekhar/zerotopandas-course-project-starter\u001b[0m\n"
     ]
    },
    {
     "data": {
      "text/plain": [
       "'https://jovian.ml/iamshivamshekhar/zerotopandas-course-project-starter'"
      ]
     },
     "execution_count": 22,
     "metadata": {},
     "output_type": "execute_result"
    }
   ],
   "source": [
    "jovian.commit()"
   ]
  },
  {
   "cell_type": "code",
   "execution_count": null,
   "metadata": {},
   "outputs": [],
   "source": []
  },
  {
   "cell_type": "markdown",
   "metadata": {},
   "source": [
    "## Exploratory Analysis and Visualization\n",
    "\n",
    "TODO"
   ]
  },
  {
   "cell_type": "code",
   "execution_count": null,
   "metadata": {},
   "outputs": [],
   "source": []
  },
  {
   "cell_type": "code",
   "execution_count": 23,
   "metadata": {},
   "outputs": [],
   "source": [
    "df1=df[df.Confirmed>1000].groupby('State')[['Confirmed']].sum()"
   ]
  },
  {
   "cell_type": "code",
   "execution_count": 24,
   "metadata": {},
   "outputs": [
    {
     "data": {
      "text/html": [
       "<div>\n",
       "<style scoped>\n",
       "    .dataframe tbody tr th:only-of-type {\n",
       "        vertical-align: middle;\n",
       "    }\n",
       "\n",
       "    .dataframe tbody tr th {\n",
       "        vertical-align: top;\n",
       "    }\n",
       "\n",
       "    .dataframe thead th {\n",
       "        text-align: right;\n",
       "    }\n",
       "</style>\n",
       "<table border=\"1\" class=\"dataframe\">\n",
       "  <thead>\n",
       "    <tr style=\"text-align: right;\">\n",
       "      <th></th>\n",
       "      <th>Confirmed</th>\n",
       "    </tr>\n",
       "    <tr>\n",
       "      <th>State</th>\n",
       "      <th></th>\n",
       "    </tr>\n",
       "  </thead>\n",
       "  <tbody>\n",
       "    <tr>\n",
       "      <th>Andhra Pradesh</th>\n",
       "      <td>24434871</td>\n",
       "    </tr>\n",
       "    <tr>\n",
       "      <th>Arunachal Pradesh</th>\n",
       "      <td>81516</td>\n",
       "    </tr>\n",
       "    <tr>\n",
       "      <th>Bihar</th>\n",
       "      <td>7186500</td>\n",
       "    </tr>\n",
       "    <tr>\n",
       "      <th>Chandigarh</th>\n",
       "      <td>271340</td>\n",
       "    </tr>\n",
       "    <tr>\n",
       "      <th>Chhattisgarh</th>\n",
       "      <td>1746255</td>\n",
       "    </tr>\n",
       "    <tr>\n",
       "      <th>Dadra and Nagar Haveli and Daman and Diu</th>\n",
       "      <td>72956</td>\n",
       "    </tr>\n",
       "    <tr>\n",
       "      <th>Delhi</th>\n",
       "      <td>15624208</td>\n",
       "    </tr>\n",
       "    <tr>\n",
       "      <th>Gujarat</th>\n",
       "      <td>6734782</td>\n",
       "    </tr>\n",
       "    <tr>\n",
       "      <th>Haryana</th>\n",
       "      <td>4187953</td>\n",
       "    </tr>\n",
       "    <tr>\n",
       "      <th>Himachal Pradesh</th>\n",
       "      <td>159122</td>\n",
       "    </tr>\n",
       "    <tr>\n",
       "      <th>Jammu and Kashmir</th>\n",
       "      <td>157685</td>\n",
       "    </tr>\n",
       "    <tr>\n",
       "      <th>Jharkhand</th>\n",
       "      <td>294683</td>\n",
       "    </tr>\n",
       "    <tr>\n",
       "      <th>Karnataka</th>\n",
       "      <td>20124919</td>\n",
       "    </tr>\n",
       "    <tr>\n",
       "      <th>Kerala</th>\n",
       "      <td>1207980</td>\n",
       "    </tr>\n",
       "    <tr>\n",
       "      <th>Ladakh</th>\n",
       "      <td>117340</td>\n",
       "    </tr>\n",
       "    <tr>\n",
       "      <th>Madhya Pradesh</th>\n",
       "      <td>3320650</td>\n",
       "    </tr>\n",
       "    <tr>\n",
       "      <th>Maharashtra</th>\n",
       "      <td>53005568</td>\n",
       "    </tr>\n",
       "    <tr>\n",
       "      <th>Nagaland</th>\n",
       "      <td>149989</td>\n",
       "    </tr>\n",
       "    <tr>\n",
       "      <th>Odisha</th>\n",
       "      <td>4251443</td>\n",
       "    </tr>\n",
       "    <tr>\n",
       "      <th>Puducherry</th>\n",
       "      <td>753413</td>\n",
       "    </tr>\n",
       "    <tr>\n",
       "      <th>Punjab</th>\n",
       "      <td>2912188</td>\n",
       "    </tr>\n",
       "    <tr>\n",
       "      <th>Rajasthan</th>\n",
       "      <td>4848330</td>\n",
       "    </tr>\n",
       "    <tr>\n",
       "      <th>Tamil Nadu</th>\n",
       "      <td>28976588</td>\n",
       "    </tr>\n",
       "    <tr>\n",
       "      <th>Tripura</th>\n",
       "      <td>603613</td>\n",
       "    </tr>\n",
       "    <tr>\n",
       "      <th>Uttar Pradesh</th>\n",
       "      <td>12485205</td>\n",
       "    </tr>\n",
       "    <tr>\n",
       "      <th>Uttarakhand</th>\n",
       "      <td>1067834</td>\n",
       "    </tr>\n",
       "  </tbody>\n",
       "</table>\n",
       "</div>"
      ],
      "text/plain": [
       "                                          Confirmed\n",
       "State                                              \n",
       "Andhra Pradesh                             24434871\n",
       "Arunachal Pradesh                             81516\n",
       "Bihar                                       7186500\n",
       "Chandigarh                                   271340\n",
       "Chhattisgarh                                1746255\n",
       "Dadra and Nagar Haveli and Daman and Diu      72956\n",
       "Delhi                                      15624208\n",
       "Gujarat                                     6734782\n",
       "Haryana                                     4187953\n",
       "Himachal Pradesh                             159122\n",
       "Jammu and Kashmir                            157685\n",
       "Jharkhand                                    294683\n",
       "Karnataka                                  20124919\n",
       "Kerala                                      1207980\n",
       "Ladakh                                       117340\n",
       "Madhya Pradesh                              3320650\n",
       "Maharashtra                                53005568\n",
       "Nagaland                                     149989\n",
       "Odisha                                      4251443\n",
       "Puducherry                                   753413\n",
       "Punjab                                      2912188\n",
       "Rajasthan                                   4848330\n",
       "Tamil Nadu                                 28976588\n",
       "Tripura                                      603613\n",
       "Uttar Pradesh                              12485205\n",
       "Uttarakhand                                 1067834"
      ]
     },
     "execution_count": 24,
     "metadata": {},
     "output_type": "execute_result"
    }
   ],
   "source": [
    "df1"
   ]
  },
  {
   "cell_type": "code",
   "execution_count": 25,
   "metadata": {},
   "outputs": [],
   "source": [
    "df2=df1.sort_values('Confirmed',ascending=False)"
   ]
  },
  {
   "cell_type": "code",
   "execution_count": 26,
   "metadata": {},
   "outputs": [
    {
     "data": {
      "text/html": [
       "<div>\n",
       "<style scoped>\n",
       "    .dataframe tbody tr th:only-of-type {\n",
       "        vertical-align: middle;\n",
       "    }\n",
       "\n",
       "    .dataframe tbody tr th {\n",
       "        vertical-align: top;\n",
       "    }\n",
       "\n",
       "    .dataframe thead th {\n",
       "        text-align: right;\n",
       "    }\n",
       "</style>\n",
       "<table border=\"1\" class=\"dataframe\">\n",
       "  <thead>\n",
       "    <tr style=\"text-align: right;\">\n",
       "      <th></th>\n",
       "      <th>Confirmed</th>\n",
       "    </tr>\n",
       "    <tr>\n",
       "      <th>State</th>\n",
       "      <th></th>\n",
       "    </tr>\n",
       "  </thead>\n",
       "  <tbody>\n",
       "    <tr>\n",
       "      <th>Maharashtra</th>\n",
       "      <td>53005568</td>\n",
       "    </tr>\n",
       "    <tr>\n",
       "      <th>Tamil Nadu</th>\n",
       "      <td>28976588</td>\n",
       "    </tr>\n",
       "    <tr>\n",
       "      <th>Andhra Pradesh</th>\n",
       "      <td>24434871</td>\n",
       "    </tr>\n",
       "    <tr>\n",
       "      <th>Karnataka</th>\n",
       "      <td>20124919</td>\n",
       "    </tr>\n",
       "    <tr>\n",
       "      <th>Delhi</th>\n",
       "      <td>15624208</td>\n",
       "    </tr>\n",
       "    <tr>\n",
       "      <th>Uttar Pradesh</th>\n",
       "      <td>12485205</td>\n",
       "    </tr>\n",
       "    <tr>\n",
       "      <th>Bihar</th>\n",
       "      <td>7186500</td>\n",
       "    </tr>\n",
       "    <tr>\n",
       "      <th>Gujarat</th>\n",
       "      <td>6734782</td>\n",
       "    </tr>\n",
       "    <tr>\n",
       "      <th>Rajasthan</th>\n",
       "      <td>4848330</td>\n",
       "    </tr>\n",
       "    <tr>\n",
       "      <th>Odisha</th>\n",
       "      <td>4251443</td>\n",
       "    </tr>\n",
       "    <tr>\n",
       "      <th>Haryana</th>\n",
       "      <td>4187953</td>\n",
       "    </tr>\n",
       "    <tr>\n",
       "      <th>Madhya Pradesh</th>\n",
       "      <td>3320650</td>\n",
       "    </tr>\n",
       "    <tr>\n",
       "      <th>Punjab</th>\n",
       "      <td>2912188</td>\n",
       "    </tr>\n",
       "    <tr>\n",
       "      <th>Chhattisgarh</th>\n",
       "      <td>1746255</td>\n",
       "    </tr>\n",
       "    <tr>\n",
       "      <th>Kerala</th>\n",
       "      <td>1207980</td>\n",
       "    </tr>\n",
       "    <tr>\n",
       "      <th>Uttarakhand</th>\n",
       "      <td>1067834</td>\n",
       "    </tr>\n",
       "    <tr>\n",
       "      <th>Puducherry</th>\n",
       "      <td>753413</td>\n",
       "    </tr>\n",
       "    <tr>\n",
       "      <th>Tripura</th>\n",
       "      <td>603613</td>\n",
       "    </tr>\n",
       "    <tr>\n",
       "      <th>Jharkhand</th>\n",
       "      <td>294683</td>\n",
       "    </tr>\n",
       "    <tr>\n",
       "      <th>Chandigarh</th>\n",
       "      <td>271340</td>\n",
       "    </tr>\n",
       "    <tr>\n",
       "      <th>Himachal Pradesh</th>\n",
       "      <td>159122</td>\n",
       "    </tr>\n",
       "    <tr>\n",
       "      <th>Jammu and Kashmir</th>\n",
       "      <td>157685</td>\n",
       "    </tr>\n",
       "    <tr>\n",
       "      <th>Nagaland</th>\n",
       "      <td>149989</td>\n",
       "    </tr>\n",
       "    <tr>\n",
       "      <th>Ladakh</th>\n",
       "      <td>117340</td>\n",
       "    </tr>\n",
       "    <tr>\n",
       "      <th>Arunachal Pradesh</th>\n",
       "      <td>81516</td>\n",
       "    </tr>\n",
       "    <tr>\n",
       "      <th>Dadra and Nagar Haveli and Daman and Diu</th>\n",
       "      <td>72956</td>\n",
       "    </tr>\n",
       "  </tbody>\n",
       "</table>\n",
       "</div>"
      ],
      "text/plain": [
       "                                          Confirmed\n",
       "State                                              \n",
       "Maharashtra                                53005568\n",
       "Tamil Nadu                                 28976588\n",
       "Andhra Pradesh                             24434871\n",
       "Karnataka                                  20124919\n",
       "Delhi                                      15624208\n",
       "Uttar Pradesh                              12485205\n",
       "Bihar                                       7186500\n",
       "Gujarat                                     6734782\n",
       "Rajasthan                                   4848330\n",
       "Odisha                                      4251443\n",
       "Haryana                                     4187953\n",
       "Madhya Pradesh                              3320650\n",
       "Punjab                                      2912188\n",
       "Chhattisgarh                                1746255\n",
       "Kerala                                      1207980\n",
       "Uttarakhand                                 1067834\n",
       "Puducherry                                   753413\n",
       "Tripura                                      603613\n",
       "Jharkhand                                    294683\n",
       "Chandigarh                                   271340\n",
       "Himachal Pradesh                             159122\n",
       "Jammu and Kashmir                            157685\n",
       "Nagaland                                     149989\n",
       "Ladakh                                       117340\n",
       "Arunachal Pradesh                             81516\n",
       "Dadra and Nagar Haveli and Daman and Diu      72956"
      ]
     },
     "execution_count": 26,
     "metadata": {},
     "output_type": "execute_result"
    }
   ],
   "source": [
    "df2\n"
   ]
  },
  {
   "cell_type": "code",
   "execution_count": 27,
   "metadata": {},
   "outputs": [
    {
     "data": {
      "text/plain": [
       "Index(['Confirmed'], dtype='object')"
      ]
     },
     "execution_count": 27,
     "metadata": {},
     "output_type": "execute_result"
    }
   ],
   "source": [
    "df1.columns"
   ]
  },
  {
   "cell_type": "code",
   "execution_count": 28,
   "metadata": {},
   "outputs": [],
   "source": [
    "df['Date']=pd.to_datetime(df['Date'])"
   ]
  },
  {
   "cell_type": "code",
   "execution_count": 29,
   "metadata": {},
   "outputs": [],
   "source": [
    "df3=df.loc[(df['Date']>='2020-04-26') & (df['Date']<='2020-05-30')]"
   ]
  },
  {
   "cell_type": "code",
   "execution_count": 30,
   "metadata": {},
   "outputs": [
    {
     "data": {
      "text/html": [
       "<div>\n",
       "<style scoped>\n",
       "    .dataframe tbody tr th:only-of-type {\n",
       "        vertical-align: middle;\n",
       "    }\n",
       "\n",
       "    .dataframe tbody tr th {\n",
       "        vertical-align: top;\n",
       "    }\n",
       "\n",
       "    .dataframe thead th {\n",
       "        text-align: right;\n",
       "    }\n",
       "</style>\n",
       "<table border=\"1\" class=\"dataframe\">\n",
       "  <thead>\n",
       "    <tr style=\"text-align: right;\">\n",
       "      <th></th>\n",
       "      <th>Date</th>\n",
       "      <th>State</th>\n",
       "      <th>District</th>\n",
       "      <th>Confirmed</th>\n",
       "      <th>Recovered</th>\n",
       "      <th>Deceased</th>\n",
       "      <th>Other</th>\n",
       "      <th>Tested</th>\n",
       "    </tr>\n",
       "  </thead>\n",
       "  <tbody>\n",
       "    <tr>\n",
       "      <th>37</th>\n",
       "      <td>2020-04-26</td>\n",
       "      <td>Chandigarh</td>\n",
       "      <td>Chandigarh</td>\n",
       "      <td>36</td>\n",
       "      <td>17</td>\n",
       "      <td>0</td>\n",
       "      <td>0</td>\n",
       "      <td>756.0</td>\n",
       "    </tr>\n",
       "    <tr>\n",
       "      <th>43</th>\n",
       "      <td>2020-04-26</td>\n",
       "      <td>Delhi</td>\n",
       "      <td>Delhi</td>\n",
       "      <td>2918</td>\n",
       "      <td>877</td>\n",
       "      <td>54</td>\n",
       "      <td>0</td>\n",
       "      <td>37613.0</td>\n",
       "    </tr>\n",
       "    <tr>\n",
       "      <th>168</th>\n",
       "      <td>2020-04-26</td>\n",
       "      <td>Maharashtra</td>\n",
       "      <td>Aurangabad</td>\n",
       "      <td>50</td>\n",
       "      <td>22</td>\n",
       "      <td>5</td>\n",
       "      <td>0</td>\n",
       "      <td>2431.0</td>\n",
       "    </tr>\n",
       "    <tr>\n",
       "      <th>274</th>\n",
       "      <td>2020-04-26</td>\n",
       "      <td>Rajasthan</td>\n",
       "      <td>Jaipur</td>\n",
       "      <td>808</td>\n",
       "      <td>222</td>\n",
       "      <td>21</td>\n",
       "      <td>0</td>\n",
       "      <td>17852.0</td>\n",
       "    </tr>\n",
       "    <tr>\n",
       "      <th>278</th>\n",
       "      <td>2020-04-26</td>\n",
       "      <td>Rajasthan</td>\n",
       "      <td>Jodhpur</td>\n",
       "      <td>364</td>\n",
       "      <td>50</td>\n",
       "      <td>5</td>\n",
       "      <td>0</td>\n",
       "      <td>14436.0</td>\n",
       "    </tr>\n",
       "    <tr>\n",
       "      <th>...</th>\n",
       "      <td>...</td>\n",
       "      <td>...</td>\n",
       "      <td>...</td>\n",
       "      <td>...</td>\n",
       "      <td>...</td>\n",
       "      <td>...</td>\n",
       "      <td>...</td>\n",
       "      <td>...</td>\n",
       "    </tr>\n",
       "    <tr>\n",
       "      <th>18085</th>\n",
       "      <td>2020-05-30</td>\n",
       "      <td>Uttarakhand</td>\n",
       "      <td>Pithoragarh</td>\n",
       "      <td>21</td>\n",
       "      <td>0</td>\n",
       "      <td>0</td>\n",
       "      <td>0</td>\n",
       "      <td>309.0</td>\n",
       "    </tr>\n",
       "    <tr>\n",
       "      <th>18086</th>\n",
       "      <td>2020-05-30</td>\n",
       "      <td>Uttarakhand</td>\n",
       "      <td>Rudraprayag</td>\n",
       "      <td>5</td>\n",
       "      <td>0</td>\n",
       "      <td>0</td>\n",
       "      <td>0</td>\n",
       "      <td>270.0</td>\n",
       "    </tr>\n",
       "    <tr>\n",
       "      <th>18087</th>\n",
       "      <td>2020-05-30</td>\n",
       "      <td>Uttarakhand</td>\n",
       "      <td>Tehri Garhwal</td>\n",
       "      <td>74</td>\n",
       "      <td>0</td>\n",
       "      <td>0</td>\n",
       "      <td>0</td>\n",
       "      <td>459.0</td>\n",
       "    </tr>\n",
       "    <tr>\n",
       "      <th>18088</th>\n",
       "      <td>2020-05-30</td>\n",
       "      <td>Uttarakhand</td>\n",
       "      <td>Udham Singh Nagar</td>\n",
       "      <td>62</td>\n",
       "      <td>27</td>\n",
       "      <td>0</td>\n",
       "      <td>0</td>\n",
       "      <td>3036.0</td>\n",
       "    </tr>\n",
       "    <tr>\n",
       "      <th>18090</th>\n",
       "      <td>2020-05-30</td>\n",
       "      <td>Uttarakhand</td>\n",
       "      <td>Uttarkashi</td>\n",
       "      <td>14</td>\n",
       "      <td>1</td>\n",
       "      <td>0</td>\n",
       "      <td>0</td>\n",
       "      <td>521.0</td>\n",
       "    </tr>\n",
       "  </tbody>\n",
       "</table>\n",
       "<p>2442 rows × 8 columns</p>\n",
       "</div>"
      ],
      "text/plain": [
       "            Date        State           District  Confirmed  Recovered  \\\n",
       "37    2020-04-26   Chandigarh         Chandigarh         36         17   \n",
       "43    2020-04-26        Delhi              Delhi       2918        877   \n",
       "168   2020-04-26  Maharashtra         Aurangabad         50         22   \n",
       "274   2020-04-26    Rajasthan             Jaipur        808        222   \n",
       "278   2020-04-26    Rajasthan            Jodhpur        364         50   \n",
       "...          ...          ...                ...        ...        ...   \n",
       "18085 2020-05-30  Uttarakhand        Pithoragarh         21          0   \n",
       "18086 2020-05-30  Uttarakhand        Rudraprayag          5          0   \n",
       "18087 2020-05-30  Uttarakhand      Tehri Garhwal         74          0   \n",
       "18088 2020-05-30  Uttarakhand  Udham Singh Nagar         62         27   \n",
       "18090 2020-05-30  Uttarakhand         Uttarkashi         14          1   \n",
       "\n",
       "       Deceased  Other   Tested  \n",
       "37            0      0    756.0  \n",
       "43           54      0  37613.0  \n",
       "168           5      0   2431.0  \n",
       "274          21      0  17852.0  \n",
       "278           5      0  14436.0  \n",
       "...         ...    ...      ...  \n",
       "18085         0      0    309.0  \n",
       "18086         0      0    270.0  \n",
       "18087         0      0    459.0  \n",
       "18088         0      0   3036.0  \n",
       "18090         0      0    521.0  \n",
       "\n",
       "[2442 rows x 8 columns]"
      ]
     },
     "execution_count": 30,
     "metadata": {},
     "output_type": "execute_result"
    }
   ],
   "source": [
    "df3"
   ]
  },
  {
   "cell_type": "code",
   "execution_count": 31,
   "metadata": {},
   "outputs": [],
   "source": [
    "df4=df3.groupby('State')[['Confirmed']].sum()"
   ]
  },
  {
   "cell_type": "code",
   "execution_count": 32,
   "metadata": {},
   "outputs": [
    {
     "data": {
      "text/html": [
       "<div>\n",
       "<style scoped>\n",
       "    .dataframe tbody tr th:only-of-type {\n",
       "        vertical-align: middle;\n",
       "    }\n",
       "\n",
       "    .dataframe tbody tr th {\n",
       "        vertical-align: top;\n",
       "    }\n",
       "\n",
       "    .dataframe thead th {\n",
       "        text-align: right;\n",
       "    }\n",
       "</style>\n",
       "<table border=\"1\" class=\"dataframe\">\n",
       "  <thead>\n",
       "    <tr style=\"text-align: right;\">\n",
       "      <th></th>\n",
       "      <th>Confirmed</th>\n",
       "    </tr>\n",
       "    <tr>\n",
       "      <th>State</th>\n",
       "      <th></th>\n",
       "    </tr>\n",
       "  </thead>\n",
       "  <tbody>\n",
       "    <tr>\n",
       "      <th>Andhra Pradesh</th>\n",
       "      <td>28295</td>\n",
       "    </tr>\n",
       "    <tr>\n",
       "      <th>Bihar</th>\n",
       "      <td>2262</td>\n",
       "    </tr>\n",
       "    <tr>\n",
       "      <th>Chandigarh</th>\n",
       "      <td>6060</td>\n",
       "    </tr>\n",
       "    <tr>\n",
       "      <th>Chhattisgarh</th>\n",
       "      <td>3246</td>\n",
       "    </tr>\n",
       "    <tr>\n",
       "      <th>Delhi</th>\n",
       "      <td>307316</td>\n",
       "    </tr>\n",
       "    <tr>\n",
       "      <th>Gujarat</th>\n",
       "      <td>169521</td>\n",
       "    </tr>\n",
       "    <tr>\n",
       "      <th>Karnataka</th>\n",
       "      <td>7842</td>\n",
       "    </tr>\n",
       "    <tr>\n",
       "      <th>Ladakh</th>\n",
       "      <td>1386</td>\n",
       "    </tr>\n",
       "    <tr>\n",
       "      <th>Madhya Pradesh</th>\n",
       "      <td>76763</td>\n",
       "    </tr>\n",
       "    <tr>\n",
       "      <th>Maharashtra</th>\n",
       "      <td>448133</td>\n",
       "    </tr>\n",
       "    <tr>\n",
       "      <th>Nagaland</th>\n",
       "      <td>95</td>\n",
       "    </tr>\n",
       "    <tr>\n",
       "      <th>Odisha</th>\n",
       "      <td>16502</td>\n",
       "    </tr>\n",
       "    <tr>\n",
       "      <th>Punjab</th>\n",
       "      <td>1441</td>\n",
       "    </tr>\n",
       "    <tr>\n",
       "      <th>Rajasthan</th>\n",
       "      <td>130235</td>\n",
       "    </tr>\n",
       "    <tr>\n",
       "      <th>Tamil Nadu</th>\n",
       "      <td>138943</td>\n",
       "    </tr>\n",
       "    <tr>\n",
       "      <th>Tripura</th>\n",
       "      <td>2429</td>\n",
       "    </tr>\n",
       "    <tr>\n",
       "      <th>Uttar Pradesh</th>\n",
       "      <td>21969</td>\n",
       "    </tr>\n",
       "    <tr>\n",
       "      <th>Uttarakhand</th>\n",
       "      <td>4279</td>\n",
       "    </tr>\n",
       "  </tbody>\n",
       "</table>\n",
       "</div>"
      ],
      "text/plain": [
       "                Confirmed\n",
       "State                    \n",
       "Andhra Pradesh      28295\n",
       "Bihar                2262\n",
       "Chandigarh           6060\n",
       "Chhattisgarh         3246\n",
       "Delhi              307316\n",
       "Gujarat            169521\n",
       "Karnataka            7842\n",
       "Ladakh               1386\n",
       "Madhya Pradesh      76763\n",
       "Maharashtra        448133\n",
       "Nagaland               95\n",
       "Odisha              16502\n",
       "Punjab               1441\n",
       "Rajasthan          130235\n",
       "Tamil Nadu         138943\n",
       "Tripura              2429\n",
       "Uttar Pradesh       21969\n",
       "Uttarakhand          4279"
      ]
     },
     "execution_count": 32,
     "metadata": {},
     "output_type": "execute_result"
    }
   ],
   "source": [
    "df4"
   ]
  },
  {
   "cell_type": "code",
   "execution_count": 33,
   "metadata": {},
   "outputs": [],
   "source": [
    "df5=df4.sort_values('Confirmed',ascending=False)"
   ]
  },
  {
   "cell_type": "code",
   "execution_count": 34,
   "metadata": {},
   "outputs": [
    {
     "data": {
      "text/html": [
       "<div>\n",
       "<style scoped>\n",
       "    .dataframe tbody tr th:only-of-type {\n",
       "        vertical-align: middle;\n",
       "    }\n",
       "\n",
       "    .dataframe tbody tr th {\n",
       "        vertical-align: top;\n",
       "    }\n",
       "\n",
       "    .dataframe thead th {\n",
       "        text-align: right;\n",
       "    }\n",
       "</style>\n",
       "<table border=\"1\" class=\"dataframe\">\n",
       "  <thead>\n",
       "    <tr style=\"text-align: right;\">\n",
       "      <th></th>\n",
       "      <th>Confirmed</th>\n",
       "    </tr>\n",
       "    <tr>\n",
       "      <th>State</th>\n",
       "      <th></th>\n",
       "    </tr>\n",
       "  </thead>\n",
       "  <tbody>\n",
       "    <tr>\n",
       "      <th>Maharashtra</th>\n",
       "      <td>448133</td>\n",
       "    </tr>\n",
       "    <tr>\n",
       "      <th>Delhi</th>\n",
       "      <td>307316</td>\n",
       "    </tr>\n",
       "    <tr>\n",
       "      <th>Gujarat</th>\n",
       "      <td>169521</td>\n",
       "    </tr>\n",
       "    <tr>\n",
       "      <th>Tamil Nadu</th>\n",
       "      <td>138943</td>\n",
       "    </tr>\n",
       "    <tr>\n",
       "      <th>Rajasthan</th>\n",
       "      <td>130235</td>\n",
       "    </tr>\n",
       "    <tr>\n",
       "      <th>Madhya Pradesh</th>\n",
       "      <td>76763</td>\n",
       "    </tr>\n",
       "    <tr>\n",
       "      <th>Andhra Pradesh</th>\n",
       "      <td>28295</td>\n",
       "    </tr>\n",
       "    <tr>\n",
       "      <th>Uttar Pradesh</th>\n",
       "      <td>21969</td>\n",
       "    </tr>\n",
       "    <tr>\n",
       "      <th>Odisha</th>\n",
       "      <td>16502</td>\n",
       "    </tr>\n",
       "    <tr>\n",
       "      <th>Karnataka</th>\n",
       "      <td>7842</td>\n",
       "    </tr>\n",
       "    <tr>\n",
       "      <th>Chandigarh</th>\n",
       "      <td>6060</td>\n",
       "    </tr>\n",
       "    <tr>\n",
       "      <th>Uttarakhand</th>\n",
       "      <td>4279</td>\n",
       "    </tr>\n",
       "    <tr>\n",
       "      <th>Chhattisgarh</th>\n",
       "      <td>3246</td>\n",
       "    </tr>\n",
       "    <tr>\n",
       "      <th>Tripura</th>\n",
       "      <td>2429</td>\n",
       "    </tr>\n",
       "    <tr>\n",
       "      <th>Bihar</th>\n",
       "      <td>2262</td>\n",
       "    </tr>\n",
       "    <tr>\n",
       "      <th>Punjab</th>\n",
       "      <td>1441</td>\n",
       "    </tr>\n",
       "    <tr>\n",
       "      <th>Ladakh</th>\n",
       "      <td>1386</td>\n",
       "    </tr>\n",
       "    <tr>\n",
       "      <th>Nagaland</th>\n",
       "      <td>95</td>\n",
       "    </tr>\n",
       "  </tbody>\n",
       "</table>\n",
       "</div>"
      ],
      "text/plain": [
       "                Confirmed\n",
       "State                    \n",
       "Maharashtra        448133\n",
       "Delhi              307316\n",
       "Gujarat            169521\n",
       "Tamil Nadu         138943\n",
       "Rajasthan          130235\n",
       "Madhya Pradesh      76763\n",
       "Andhra Pradesh      28295\n",
       "Uttar Pradesh       21969\n",
       "Odisha              16502\n",
       "Karnataka            7842\n",
       "Chandigarh           6060\n",
       "Uttarakhand          4279\n",
       "Chhattisgarh         3246\n",
       "Tripura              2429\n",
       "Bihar                2262\n",
       "Punjab               1441\n",
       "Ladakh               1386\n",
       "Nagaland               95"
      ]
     },
     "execution_count": 34,
     "metadata": {},
     "output_type": "execute_result"
    }
   ],
   "source": [
    "df5"
   ]
  },
  {
   "cell_type": "code",
   "execution_count": 35,
   "metadata": {},
   "outputs": [],
   "source": [
    "import matplotlib.pyplot as plt"
   ]
  },
  {
   "cell_type": "code",
   "execution_count": 36,
   "metadata": {},
   "outputs": [],
   "source": [
    "import seaborn as sns"
   ]
  },
  {
   "cell_type": "code",
   "execution_count": 37,
   "metadata": {},
   "outputs": [],
   "source": [
    "%matplotlib inline\n"
   ]
  },
  {
   "cell_type": "code",
   "execution_count": 38,
   "metadata": {},
   "outputs": [],
   "source": [
    "from pylab import rcParams\n",
    "rcParams['figure.figsize'] = 12, 15"
   ]
  },
  {
   "cell_type": "code",
   "execution_count": 39,
   "metadata": {},
   "outputs": [],
   "source": [
    "sns.set_style('darkgrid')"
   ]
  },
  {
   "cell_type": "code",
   "execution_count": 40,
   "metadata": {},
   "outputs": [
    {
     "data": {
      "text/plain": [
       "<AxesSubplot:title={'center':'Confirmed till date'}, xlabel='Confirmed', ylabel='State'>"
      ]
     },
     "execution_count": 40,
     "metadata": {},
     "output_type": "execute_result"
    },
    {
     "data": {
      "image/png": "[encoded data removed]",
      "text/plain": [
       "<Figure size 864x1080 with 1 Axes>"
      ]
     },
     "metadata": {},
     "output_type": "display_data"
    }
   ],
   "source": [
    "plt.yticks(rotation=5)\n",
    "plt.title(\"Confirmed till date\")\n",
    "sns.barplot(df2['Confirmed'],df2.index)"
   ]
  },
  {
   "cell_type": "code",
   "execution_count": 41,
   "metadata": {},
   "outputs": [
    {
     "data": {
      "text/plain": [
       "<AxesSubplot:title={'center':'Confirmed till 30-05-2020'}, xlabel='Confirmed', ylabel='State'>"
      ]
     },
     "execution_count": 41,
     "metadata": {},
     "output_type": "execute_result"
    },
    {
     "data": {
      "image/png": "[encoded data removed]",
      "text/plain": [
       "<Figure size 864x1080 with 1 Axes>"
      ]
     },
     "metadata": {},
     "output_type": "display_data"
    }
   ],
   "source": [
    "plt.yticks(rotation=5)\n",
    "plt.title(\"Confirmed till 30-05-2020\")\n",
    "sns.barplot(df5['Confirmed'],df5.index)"
   ]
  },
  {
   "cell_type": "markdown",
   "metadata": {},
   "source": [
    "The main motive in displaying the above 2 barplots is to showcase the performance of the respective states with the passage of time during the covid-19 pandemic. As it is observed, during the onset on covid in India, from the time of imposition of 1st phase of Lockdown from April till May. States such as Gujarat and Madhya Pradesh were among the top 10 caseloads in terms of average caseloads. But as the time passed by, these two states performed really well in tackling of the situation as inferred from the cumulative barplot upto 24-09-2020. Gujarat dropped down to 8th position(till date) from 3rd during onset of the pandemic in India. Similarly, Madhya Pradesh dropped down to 12th position(till date) from 6th position in early stages.\n",
    "Besides, there are some states for which the caseload increased manyfolds as the lockdown restrictions were made less strict.\n",
    "Karnataka climbed up to 4th position from 10th position in the beginning. Andhra Pradesh reached 3rd spot from 7th spot in the early stages.\n",
    "Thus, it can be observed thatt the people and Government authorities of the states performing well, need to be appreciated for their efforts in controlling the widespread of the virus.\n",
    "On the other hand, the states for which the caseload increased once lockdown was relieved, need to be more cautious of the virus now more than ever. The state authorities of these states need to implement a good counter-plan to curb the spread of the virus.\n"
   ]
  },
  {
   "cell_type": "code",
   "execution_count": 42,
   "metadata": {},
   "outputs": [],
   "source": [
    "import jovian"
   ]
  },
  {
   "cell_type": "code",
   "execution_count": 43,
   "metadata": {},
   "outputs": [
    {
     "data": {
      "application/javascript": [
       "window.require && require([\"base/js/namespace\"],function(Jupyter){Jupyter.notebook.save_checkpoint()})"
      ],
      "text/plain": [
       "<IPython.core.display.Javascript object>"
      ]
     },
     "metadata": {},
     "output_type": "display_data"
    },
    {
     "name": "stdout",
     "output_type": "stream",
     "text": [
      "[jovian] Attempting to save notebook..\u001b[0m\n",
      "[jovian] Updating notebook \"iamshivamshekhar/zerotopandas-course-project-starter\" on https://jovian.ml/\u001b[0m\n",
      "[jovian] Uploading notebook..\u001b[0m\n",
      "[jovian] Capturing environment..\u001b[0m\n",
      "[jovian] Committed successfully! https://jovian.ml/iamshivamshekhar/zerotopandas-course-project-starter\u001b[0m\n"
     ]
    },
    {
     "data": {
      "text/plain": [
       "'https://jovian.ml/iamshivamshekhar/zerotopandas-course-project-starter'"
      ]
     },
     "execution_count": 43,
     "metadata": {},
     "output_type": "execute_result"
    }
   ],
   "source": [
    "jovian.commit()"
   ]
  },
  {
   "cell_type": "code",
   "execution_count": 44,
   "metadata": {},
   "outputs": [],
   "source": [
    "df6=df.groupby('State')[['Tested']].sum()"
   ]
  },
  {
   "cell_type": "code",
   "execution_count": 45,
   "metadata": {},
   "outputs": [],
   "source": [
    "df6=df6.sort_values('Tested',ascending=False)"
   ]
  },
  {
   "cell_type": "code",
   "execution_count": 46,
   "metadata": {},
   "outputs": [
    {
     "data": {
      "text/plain": [
       "<AxesSubplot:xlabel='Tested', ylabel='State'>"
      ]
     },
     "execution_count": 46,
     "metadata": {},
     "output_type": "execute_result"
    },
    {
     "data": {
      "image/png": "[encoded data removed]",
      "text/plain": [
       "<Figure size 864x1080 with 1 Axes>"
      ]
     },
     "metadata": {},
     "output_type": "display_data"
    }
   ],
   "source": [
    "sns.barplot(df6['Tested'],df6.index)"
   ]
  },
  {
   "cell_type": "code",
   "execution_count": 47,
   "metadata": {},
   "outputs": [],
   "source": [
    "df['month']=pd.DatetimeIndex(df['Date']).month"
   ]
  },
  {
   "cell_type": "code",
   "execution_count": 48,
   "metadata": {},
   "outputs": [
    {
     "data": {
      "text/html": [
       "<div>\n",
       "<style scoped>\n",
       "    .dataframe tbody tr th:only-of-type {\n",
       "        vertical-align: middle;\n",
       "    }\n",
       "\n",
       "    .dataframe tbody tr th {\n",
       "        vertical-align: top;\n",
       "    }\n",
       "\n",
       "    .dataframe thead th {\n",
       "        text-align: right;\n",
       "    }\n",
       "</style>\n",
       "<table border=\"1\" class=\"dataframe\">\n",
       "  <thead>\n",
       "    <tr style=\"text-align: right;\">\n",
       "      <th></th>\n",
       "      <th>Date</th>\n",
       "      <th>State</th>\n",
       "      <th>District</th>\n",
       "      <th>Confirmed</th>\n",
       "      <th>Recovered</th>\n",
       "      <th>Deceased</th>\n",
       "      <th>Other</th>\n",
       "      <th>Tested</th>\n",
       "      <th>month</th>\n",
       "    </tr>\n",
       "  </thead>\n",
       "  <tbody>\n",
       "    <tr>\n",
       "      <th>37</th>\n",
       "      <td>2020-04-26</td>\n",
       "      <td>Chandigarh</td>\n",
       "      <td>Chandigarh</td>\n",
       "      <td>36</td>\n",
       "      <td>17</td>\n",
       "      <td>0</td>\n",
       "      <td>0</td>\n",
       "      <td>756.0</td>\n",
       "      <td>4</td>\n",
       "    </tr>\n",
       "    <tr>\n",
       "      <th>43</th>\n",
       "      <td>2020-04-26</td>\n",
       "      <td>Delhi</td>\n",
       "      <td>Delhi</td>\n",
       "      <td>2918</td>\n",
       "      <td>877</td>\n",
       "      <td>54</td>\n",
       "      <td>0</td>\n",
       "      <td>37613.0</td>\n",
       "      <td>4</td>\n",
       "    </tr>\n",
       "    <tr>\n",
       "      <th>168</th>\n",
       "      <td>2020-04-26</td>\n",
       "      <td>Maharashtra</td>\n",
       "      <td>Aurangabad</td>\n",
       "      <td>50</td>\n",
       "      <td>22</td>\n",
       "      <td>5</td>\n",
       "      <td>0</td>\n",
       "      <td>2431.0</td>\n",
       "      <td>4</td>\n",
       "    </tr>\n",
       "    <tr>\n",
       "      <th>274</th>\n",
       "      <td>2020-04-26</td>\n",
       "      <td>Rajasthan</td>\n",
       "      <td>Jaipur</td>\n",
       "      <td>808</td>\n",
       "      <td>222</td>\n",
       "      <td>21</td>\n",
       "      <td>0</td>\n",
       "      <td>17852.0</td>\n",
       "      <td>4</td>\n",
       "    </tr>\n",
       "    <tr>\n",
       "      <th>278</th>\n",
       "      <td>2020-04-26</td>\n",
       "      <td>Rajasthan</td>\n",
       "      <td>Jodhpur</td>\n",
       "      <td>364</td>\n",
       "      <td>50</td>\n",
       "      <td>5</td>\n",
       "      <td>0</td>\n",
       "      <td>14436.0</td>\n",
       "      <td>4</td>\n",
       "    </tr>\n",
       "    <tr>\n",
       "      <th>...</th>\n",
       "      <td>...</td>\n",
       "      <td>...</td>\n",
       "      <td>...</td>\n",
       "      <td>...</td>\n",
       "      <td>...</td>\n",
       "      <td>...</td>\n",
       "      <td>...</td>\n",
       "      <td>...</td>\n",
       "      <td>...</td>\n",
       "    </tr>\n",
       "    <tr>\n",
       "      <th>94963</th>\n",
       "      <td>2020-09-25</td>\n",
       "      <td>Uttarakhand</td>\n",
       "      <td>Pithoragarh</td>\n",
       "      <td>970</td>\n",
       "      <td>649</td>\n",
       "      <td>4</td>\n",
       "      <td>0</td>\n",
       "      <td>30581.0</td>\n",
       "      <td>9</td>\n",
       "    </tr>\n",
       "    <tr>\n",
       "      <th>94964</th>\n",
       "      <td>2020-09-25</td>\n",
       "      <td>Uttarakhand</td>\n",
       "      <td>Rudraprayag</td>\n",
       "      <td>635</td>\n",
       "      <td>489</td>\n",
       "      <td>1</td>\n",
       "      <td>1</td>\n",
       "      <td>20563.0</td>\n",
       "      <td>9</td>\n",
       "    </tr>\n",
       "    <tr>\n",
       "      <th>94965</th>\n",
       "      <td>2020-09-25</td>\n",
       "      <td>Uttarakhand</td>\n",
       "      <td>Tehri Garhwal</td>\n",
       "      <td>2106</td>\n",
       "      <td>1815</td>\n",
       "      <td>3</td>\n",
       "      <td>4</td>\n",
       "      <td>45389.0</td>\n",
       "      <td>9</td>\n",
       "    </tr>\n",
       "    <tr>\n",
       "      <th>94966</th>\n",
       "      <td>2020-09-25</td>\n",
       "      <td>Uttarakhand</td>\n",
       "      <td>Udham Singh Nagar</td>\n",
       "      <td>7972</td>\n",
       "      <td>6476</td>\n",
       "      <td>55</td>\n",
       "      <td>70</td>\n",
       "      <td>101458.0</td>\n",
       "      <td>9</td>\n",
       "    </tr>\n",
       "    <tr>\n",
       "      <th>94967</th>\n",
       "      <td>2020-09-25</td>\n",
       "      <td>Uttarakhand</td>\n",
       "      <td>Uttarkashi</td>\n",
       "      <td>1766</td>\n",
       "      <td>1324</td>\n",
       "      <td>6</td>\n",
       "      <td>14</td>\n",
       "      <td>43068.0</td>\n",
       "      <td>9</td>\n",
       "    </tr>\n",
       "  </tbody>\n",
       "</table>\n",
       "<p>55121 rows × 9 columns</p>\n",
       "</div>"
      ],
      "text/plain": [
       "            Date        State           District  Confirmed  Recovered  \\\n",
       "37    2020-04-26   Chandigarh         Chandigarh         36         17   \n",
       "43    2020-04-26        Delhi              Delhi       2918        877   \n",
       "168   2020-04-26  Maharashtra         Aurangabad         50         22   \n",
       "274   2020-04-26    Rajasthan             Jaipur        808        222   \n",
       "278   2020-04-26    Rajasthan            Jodhpur        364         50   \n",
       "...          ...          ...                ...        ...        ...   \n",
       "94963 2020-09-25  Uttarakhand        Pithoragarh        970        649   \n",
       "94964 2020-09-25  Uttarakhand        Rudraprayag        635        489   \n",
       "94965 2020-09-25  Uttarakhand      Tehri Garhwal       2106       1815   \n",
       "94966 2020-09-25  Uttarakhand  Udham Singh Nagar       7972       6476   \n",
       "94967 2020-09-25  Uttarakhand         Uttarkashi       1766       1324   \n",
       "\n",
       "       Deceased  Other    Tested  month  \n",
       "37            0      0     756.0      4  \n",
       "43           54      0   37613.0      4  \n",
       "168           5      0    2431.0      4  \n",
       "274          21      0   17852.0      4  \n",
       "278           5      0   14436.0      4  \n",
       "...         ...    ...       ...    ...  \n",
       "94963         4      0   30581.0      9  \n",
       "94964         1      1   20563.0      9  \n",
       "94965         3      4   45389.0      9  \n",
       "94966        55     70  101458.0      9  \n",
       "94967         6     14   43068.0      9  \n",
       "\n",
       "[55121 rows x 9 columns]"
      ]
     },
     "execution_count": 48,
     "metadata": {},
     "output_type": "execute_result"
    }
   ],
   "source": [
    "df"
   ]
  },
  {
   "cell_type": "code",
   "execution_count": 49,
   "metadata": {},
   "outputs": [],
   "source": [
    "df7=df.loc[df.State=='Delhi'][['State','month','Tested']]"
   ]
  },
  {
   "cell_type": "code",
   "execution_count": 50,
   "metadata": {},
   "outputs": [
    {
     "name": "stdout",
     "output_type": "stream",
     "text": [
      "       State  month     Tested\n",
      "43     Delhi      4    37613.0\n",
      "454    Delhi      4    39911.0\n",
      "879    Delhi      4    43370.0\n",
      "1308   Delhi      4    47225.0\n",
      "1741   Delhi      4    47225.0\n",
      "...      ...    ...        ...\n",
      "91830  Delhi      9  2578740.0\n",
      "92484  Delhi      9  2637753.0\n",
      "93138  Delhi      9  2697333.0\n",
      "93793  Delhi      9  2756516.0\n",
      "94448  Delhi      9  2756516.0\n",
      "\n",
      "[153 rows x 3 columns]\n"
     ]
    }
   ],
   "source": [
    "print(df7)"
   ]
  },
  {
   "cell_type": "code",
   "execution_count": 51,
   "metadata": {},
   "outputs": [],
   "source": [
    "df9=df.loc[df['State'].isin(['Maharashtra','Tamil Nadu','Andhra Pradesh'])][['State','month','Tested']]"
   ]
  },
  {
   "cell_type": "code",
   "execution_count": 52,
   "metadata": {},
   "outputs": [
    {
     "data": {
      "text/html": [
       "<div>\n",
       "<style scoped>\n",
       "    .dataframe tbody tr th:only-of-type {\n",
       "        vertical-align: middle;\n",
       "    }\n",
       "\n",
       "    .dataframe tbody tr th {\n",
       "        vertical-align: top;\n",
       "    }\n",
       "\n",
       "    .dataframe thead th {\n",
       "        text-align: right;\n",
       "    }\n",
       "</style>\n",
       "<table border=\"1\" class=\"dataframe\">\n",
       "  <thead>\n",
       "    <tr style=\"text-align: right;\">\n",
       "      <th></th>\n",
       "      <th>State</th>\n",
       "      <th>month</th>\n",
       "      <th>Tested</th>\n",
       "    </tr>\n",
       "  </thead>\n",
       "  <tbody>\n",
       "    <tr>\n",
       "      <th>168</th>\n",
       "      <td>Maharashtra</td>\n",
       "      <td>4</td>\n",
       "      <td>2431.0</td>\n",
       "    </tr>\n",
       "    <tr>\n",
       "      <th>583</th>\n",
       "      <td>Maharashtra</td>\n",
       "      <td>4</td>\n",
       "      <td>2555.0</td>\n",
       "    </tr>\n",
       "    <tr>\n",
       "      <th>1008</th>\n",
       "      <td>Maharashtra</td>\n",
       "      <td>4</td>\n",
       "      <td>2678.0</td>\n",
       "    </tr>\n",
       "    <tr>\n",
       "      <th>1437</th>\n",
       "      <td>Maharashtra</td>\n",
       "      <td>4</td>\n",
       "      <td>2901.0</td>\n",
       "    </tr>\n",
       "    <tr>\n",
       "      <th>1870</th>\n",
       "      <td>Maharashtra</td>\n",
       "      <td>4</td>\n",
       "      <td>3051.0</td>\n",
       "    </tr>\n",
       "    <tr>\n",
       "      <th>...</th>\n",
       "      <td>...</td>\n",
       "      <td>...</td>\n",
       "      <td>...</td>\n",
       "    </tr>\n",
       "    <tr>\n",
       "      <th>94867</th>\n",
       "      <td>Tamil Nadu</td>\n",
       "      <td>9</td>\n",
       "      <td>36301.0</td>\n",
       "    </tr>\n",
       "    <tr>\n",
       "      <th>94868</th>\n",
       "      <td>Tamil Nadu</td>\n",
       "      <td>9</td>\n",
       "      <td>76170.0</td>\n",
       "    </tr>\n",
       "    <tr>\n",
       "      <th>94869</th>\n",
       "      <td>Tamil Nadu</td>\n",
       "      <td>9</td>\n",
       "      <td>47936.0</td>\n",
       "    </tr>\n",
       "    <tr>\n",
       "      <th>94870</th>\n",
       "      <td>Tamil Nadu</td>\n",
       "      <td>9</td>\n",
       "      <td>52064.0</td>\n",
       "    </tr>\n",
       "    <tr>\n",
       "      <th>94871</th>\n",
       "      <td>Tamil Nadu</td>\n",
       "      <td>9</td>\n",
       "      <td>28620.0</td>\n",
       "    </tr>\n",
       "  </tbody>\n",
       "</table>\n",
       "<p>8494 rows × 3 columns</p>\n",
       "</div>"
      ],
      "text/plain": [
       "             State  month   Tested\n",
       "168    Maharashtra      4   2431.0\n",
       "583    Maharashtra      4   2555.0\n",
       "1008   Maharashtra      4   2678.0\n",
       "1437   Maharashtra      4   2901.0\n",
       "1870   Maharashtra      4   3051.0\n",
       "...            ...    ...      ...\n",
       "94867   Tamil Nadu      9  36301.0\n",
       "94868   Tamil Nadu      9  76170.0\n",
       "94869   Tamil Nadu      9  47936.0\n",
       "94870   Tamil Nadu      9  52064.0\n",
       "94871   Tamil Nadu      9  28620.0\n",
       "\n",
       "[8494 rows x 3 columns]"
      ]
     },
     "execution_count": 52,
     "metadata": {},
     "output_type": "execute_result"
    }
   ],
   "source": [
    "df9"
   ]
  },
  {
   "cell_type": "code",
   "execution_count": 53,
   "metadata": {},
   "outputs": [
    {
     "data": {
      "text/plain": [
       "<AxesSubplot:xlabel='month', ylabel='Tested'>"
      ]
     },
     "execution_count": 53,
     "metadata": {},
     "output_type": "execute_result"
    },
    {
     "data": {
      "image/png": "[encoded data removed]",
      "text/plain": [
       "<Figure size 864x1080 with 1 Axes>"
      ]
     },
     "metadata": {},
     "output_type": "display_data"
    }
   ],
   "source": [
    "sns.barplot(df9['month'],df9['Tested'],hue=df9['State'])\n"
   ]
  },
  {
   "cell_type": "markdown",
   "metadata": {},
   "source": [
    "In the above plot, a comparison of the testings done for each month, starting from the month of April to month of September is shown. For a fair comparison, only the top three states having the most caseloads till date are being fed in the plot.\n",
    "As one can see, Andhra Pradesh has been significantly ahead of other states in terms of no. of testing done each month, followed by Maharashtra, which then is closely followed by Tamil nadu.\n",
    "Thus it may be the case that the huge positive cases in state of Andhra Pradesh, is due to the large no. of testing done monthly. This is good for the state of Andhra Pradesh which is 3rd in terms of no. of confirmed cases as when more testing is done, more tight check can be kept on the spread of virus in the states various localities.\n",
    "On the other hand, for Maharashtra and Tamil Nadu, it may be the case that the actual confirmed cases might be larger than being shown and many cases might go unrecorded due to less no. of testing being done. Thus, keeping a check on virus spread may be problematic in these situations.\n"
   ]
  },
  {
   "cell_type": "code",
   "execution_count": 54,
   "metadata": {},
   "outputs": [],
   "source": [
    "import jovian"
   ]
  },
  {
   "cell_type": "code",
   "execution_count": 55,
   "metadata": {},
   "outputs": [
    {
     "data": {
      "application/javascript": [
       "window.require && require([\"base/js/namespace\"],function(Jupyter){Jupyter.notebook.save_checkpoint()})"
      ],
      "text/plain": [
       "<IPython.core.display.Javascript object>"
      ]
     },
     "metadata": {},
     "output_type": "display_data"
    },
    {
     "name": "stdout",
     "output_type": "stream",
     "text": [
      "[jovian] Attempting to save notebook..\u001b[0m\n",
      "[jovian] Updating notebook \"iamshivamshekhar/zerotopandas-course-project-starter\" on https://jovian.ml/\u001b[0m\n",
      "[jovian] Uploading notebook..\u001b[0m\n",
      "[jovian] Capturing environment..\u001b[0m\n",
      "[jovian] Committed successfully! https://jovian.ml/iamshivamshekhar/zerotopandas-course-project-starter\u001b[0m\n"
     ]
    },
    {
     "data": {
      "text/plain": [
       "'https://jovian.ml/iamshivamshekhar/zerotopandas-course-project-starter'"
      ]
     },
     "execution_count": 55,
     "metadata": {},
     "output_type": "execute_result"
    }
   ],
   "source": [
    "jovian.commit()"
   ]
  },
  {
   "cell_type": "code",
   "execution_count": 56,
   "metadata": {},
   "outputs": [],
   "source": [
    "df10=df.loc[df['State']=='Andhra Pradesh'].groupby('month')[['Deceased','Confirmed']].sum()"
   ]
  },
  {
   "cell_type": "code",
   "execution_count": 57,
   "metadata": {},
   "outputs": [
    {
     "data": {
      "text/html": [
       "<div>\n",
       "<style scoped>\n",
       "    .dataframe tbody tr th:only-of-type {\n",
       "        vertical-align: middle;\n",
       "    }\n",
       "\n",
       "    .dataframe tbody tr th {\n",
       "        vertical-align: top;\n",
       "    }\n",
       "\n",
       "    .dataframe thead th {\n",
       "        text-align: right;\n",
       "    }\n",
       "</style>\n",
       "<table border=\"1\" class=\"dataframe\">\n",
       "  <thead>\n",
       "    <tr style=\"text-align: right;\">\n",
       "      <th></th>\n",
       "      <th>Deceased</th>\n",
       "      <th>Confirmed</th>\n",
       "    </tr>\n",
       "    <tr>\n",
       "      <th>month</th>\n",
       "      <th></th>\n",
       "      <th></th>\n",
       "    </tr>\n",
       "  </thead>\n",
       "  <tbody>\n",
       "    <tr>\n",
       "      <th>5</th>\n",
       "      <td>680</td>\n",
       "      <td>31337</td>\n",
       "    </tr>\n",
       "    <tr>\n",
       "      <th>6</th>\n",
       "      <td>3037</td>\n",
       "      <td>181744</td>\n",
       "    </tr>\n",
       "    <tr>\n",
       "      <th>7</th>\n",
       "      <td>18688</td>\n",
       "      <td>1559828</td>\n",
       "    </tr>\n",
       "    <tr>\n",
       "      <th>8</th>\n",
       "      <td>82340</td>\n",
       "      <td>8904114</td>\n",
       "    </tr>\n",
       "    <tr>\n",
       "      <th>9</th>\n",
       "      <td>122031</td>\n",
       "      <td>13949594</td>\n",
       "    </tr>\n",
       "  </tbody>\n",
       "</table>\n",
       "</div>"
      ],
      "text/plain": [
       "       Deceased  Confirmed\n",
       "month                     \n",
       "5           680      31337\n",
       "6          3037     181744\n",
       "7         18688    1559828\n",
       "8         82340    8904114\n",
       "9        122031   13949594"
      ]
     },
     "execution_count": 57,
     "metadata": {},
     "output_type": "execute_result"
    }
   ],
   "source": [
    "df10"
   ]
  },
  {
   "cell_type": "code",
   "execution_count": 58,
   "metadata": {},
   "outputs": [],
   "source": [
    "df8=df.loc[df['State']=='Maharashtra'].groupby('month')[['Confirmed','Deceased']].sum()"
   ]
  },
  {
   "cell_type": "code",
   "execution_count": 59,
   "metadata": {},
   "outputs": [
    {
     "data": {
      "text/html": [
       "<div>\n",
       "<style scoped>\n",
       "    .dataframe tbody tr th:only-of-type {\n",
       "        vertical-align: middle;\n",
       "    }\n",
       "\n",
       "    .dataframe tbody tr th {\n",
       "        vertical-align: top;\n",
       "    }\n",
       "\n",
       "    .dataframe thead th {\n",
       "        text-align: right;\n",
       "    }\n",
       "</style>\n",
       "<table border=\"1\" class=\"dataframe\">\n",
       "  <thead>\n",
       "    <tr style=\"text-align: right;\">\n",
       "      <th></th>\n",
       "      <th>Confirmed</th>\n",
       "      <th>Deceased</th>\n",
       "    </tr>\n",
       "    <tr>\n",
       "      <th>month</th>\n",
       "      <th></th>\n",
       "      <th></th>\n",
       "    </tr>\n",
       "  </thead>\n",
       "  <tbody>\n",
       "    <tr>\n",
       "      <th>4</th>\n",
       "      <td>428</td>\n",
       "      <td>31</td>\n",
       "    </tr>\n",
       "    <tr>\n",
       "      <th>5</th>\n",
       "      <td>492606</td>\n",
       "      <td>16643</td>\n",
       "    </tr>\n",
       "    <tr>\n",
       "      <th>6</th>\n",
       "      <td>2663319</td>\n",
       "      <td>120373</td>\n",
       "    </tr>\n",
       "    <tr>\n",
       "      <th>7</th>\n",
       "      <td>8730160</td>\n",
       "      <td>339273</td>\n",
       "    </tr>\n",
       "    <tr>\n",
       "      <th>8</th>\n",
       "      <td>17432051</td>\n",
       "      <td>582419</td>\n",
       "    </tr>\n",
       "    <tr>\n",
       "      <th>9</th>\n",
       "      <td>23982736</td>\n",
       "      <td>670593</td>\n",
       "    </tr>\n",
       "  </tbody>\n",
       "</table>\n",
       "</div>"
      ],
      "text/plain": [
       "       Confirmed  Deceased\n",
       "month                     \n",
       "4            428        31\n",
       "5         492606     16643\n",
       "6        2663319    120373\n",
       "7        8730160    339273\n",
       "8       17432051    582419\n",
       "9       23982736    670593"
      ]
     },
     "execution_count": 59,
     "metadata": {},
     "output_type": "execute_result"
    }
   ],
   "source": [
    "df8"
   ]
  },
  {
   "cell_type": "code",
   "execution_count": 60,
   "metadata": {},
   "outputs": [],
   "source": [
    "df11=df.loc[df['State']=='Tamil Nadu'].groupby('month')[['Confirmed','Deceased']].sum()"
   ]
  },
  {
   "cell_type": "code",
   "execution_count": 61,
   "metadata": {},
   "outputs": [
    {
     "data": {
      "text/html": [
       "<div>\n",
       "<style scoped>\n",
       "    .dataframe tbody tr th:only-of-type {\n",
       "        vertical-align: middle;\n",
       "    }\n",
       "\n",
       "    .dataframe tbody tr th {\n",
       "        vertical-align: top;\n",
       "    }\n",
       "\n",
       "    .dataframe thead th {\n",
       "        text-align: right;\n",
       "    }\n",
       "</style>\n",
       "<table border=\"1\" class=\"dataframe\">\n",
       "  <thead>\n",
       "    <tr style=\"text-align: right;\">\n",
       "      <th></th>\n",
       "      <th>Confirmed</th>\n",
       "      <th>Deceased</th>\n",
       "    </tr>\n",
       "    <tr>\n",
       "      <th>month</th>\n",
       "      <th></th>\n",
       "      <th></th>\n",
       "    </tr>\n",
       "  </thead>\n",
       "  <tbody>\n",
       "    <tr>\n",
       "      <th>4</th>\n",
       "      <td>51</td>\n",
       "      <td>0</td>\n",
       "    </tr>\n",
       "    <tr>\n",
       "      <th>5</th>\n",
       "      <td>153781</td>\n",
       "      <td>1229</td>\n",
       "    </tr>\n",
       "    <tr>\n",
       "      <th>6</th>\n",
       "      <td>1439966</td>\n",
       "      <td>16782</td>\n",
       "    </tr>\n",
       "    <tr>\n",
       "      <th>7</th>\n",
       "      <td>4972764</td>\n",
       "      <td>75427</td>\n",
       "    </tr>\n",
       "    <tr>\n",
       "      <th>8</th>\n",
       "      <td>10428719</td>\n",
       "      <td>177279</td>\n",
       "    </tr>\n",
       "    <tr>\n",
       "      <th>9</th>\n",
       "      <td>12501605</td>\n",
       "      <td>208156</td>\n",
       "    </tr>\n",
       "  </tbody>\n",
       "</table>\n",
       "</div>"
      ],
      "text/plain": [
       "       Confirmed  Deceased\n",
       "month                     \n",
       "4             51         0\n",
       "5         153781      1229\n",
       "6        1439966     16782\n",
       "7        4972764     75427\n",
       "8       10428719    177279\n",
       "9       12501605    208156"
      ]
     },
     "execution_count": 61,
     "metadata": {},
     "output_type": "execute_result"
    }
   ],
   "source": [
    "df11"
   ]
  },
  {
   "cell_type": "code",
   "execution_count": 63,
   "metadata": {},
   "outputs": [],
   "source": [
    "df12=df.loc[df['State']=='Karnataka'].groupby('month')[['Confirmed','Deceased']].sum()"
   ]
  },
  {
   "cell_type": "code",
   "execution_count": 64,
   "metadata": {},
   "outputs": [
    {
     "data": {
      "text/plain": [
       "Text(0, 0.5, 'Deceased')"
      ]
     },
     "execution_count": 64,
     "metadata": {},
     "output_type": "execute_result"
    },
    {
     "data": {
      "image/png": "[encoded data removed]",
      "text/plain": [
       "<Figure size 864x1080 with 1 Axes>"
      ]
     },
     "metadata": {},
     "output_type": "display_data"
    }
   ],
   "source": [
    "plt.plot(df11['Confirmed'],df11['Deceased'])\n",
    "plt.plot(df10['Confirmed'],df10['Deceased'])\n",
    "plt.plot(df8['Confirmed'],df8['Deceased'])\n",
    "plt.plot(df12['Confirmed'],df12['Deceased'])\n",
    "plt.xlabel('Confirmed')\n",
    "plt.legend(['Tamil Nadu','Andhra Pradesh','Maharashtra','Karnataka'])\n",
    "plt.ylabel('Deceased')"
   ]
  },
  {
   "cell_type": "markdown",
   "metadata": {},
   "source": [
    "In above plot, a comparison of mortality rate has been done for the top four states with maximum caseload.\n",
    "As observed, the mortality rate for Maharashtra seems to be much higher as compared to Andhra Pradesh,Karnataka and Tamil Nadu. The relation of deceased to confirmed cases seemed to be growing exponentially in the early stages for Maharashtra, but with passage of time the relation is moving towards a linear one.\n",
    "Andhra Pradesh seems to have the lowest mortality rate of the three as the relation appears to be amortized linear all the time, with slope less than 1."
   ]
  },
  {
   "cell_type": "code",
   "execution_count": 65,
   "metadata": {},
   "outputs": [],
   "source": [
    "import jovian"
   ]
  },
  {
   "cell_type": "code",
   "execution_count": 66,
   "metadata": {},
   "outputs": [
    {
     "data": {
      "application/javascript": [
       "window.require && require([\"base/js/namespace\"],function(Jupyter){Jupyter.notebook.save_checkpoint()})"
      ],
      "text/plain": [
       "<IPython.core.display.Javascript object>"
      ]
     },
     "metadata": {},
     "output_type": "display_data"
    },
    {
     "name": "stdout",
     "output_type": "stream",
     "text": [
      "[jovian] Attempting to save notebook..\u001b[0m\n",
      "[jovian] Updating notebook \"iamshivamshekhar/zerotopandas-course-project-starter\" on https://jovian.ml/\u001b[0m\n",
      "[jovian] Uploading notebook..\u001b[0m\n",
      "[jovian] Capturing environment..\u001b[0m\n",
      "[jovian] Committed successfully! https://jovian.ml/iamshivamshekhar/zerotopandas-course-project-starter\u001b[0m\n"
     ]
    },
    {
     "data": {
      "text/plain": [
       "'https://jovian.ml/iamshivamshekhar/zerotopandas-course-project-starter'"
      ]
     },
     "execution_count": 66,
     "metadata": {},
     "output_type": "execute_result"
    }
   ],
   "source": [
    "jovian.commit()"
   ]
  },
  {
   "cell_type": "code",
   "execution_count": null,
   "metadata": {},
   "outputs": [],
   "source": [
    "import jovian"
   ]
  },
  {
   "cell_type": "code",
   "execution_count": null,
   "metadata": {},
   "outputs": [],
   "source": [
    "jovian.commit()"
   ]
  },
  {
   "cell_type": "markdown",
   "metadata": {},
   "source": [
    "## Asking and Answering Questions\n",
    "\n",
    "TODO"
   ]
  },
  {
   "cell_type": "markdown",
   "metadata": {},
   "source": [
    "For what extent is the data available for the given covid dataset?"
   ]
  },
  {
   "cell_type": "markdown",
   "metadata": {},
   "source": [
    "The dataset seems to have a record of the testing,cases confirmed and no.of deceased for all the states, from the date of 26-04-2020 to 25-09-2020."
   ]
  },
  {
   "cell_type": "markdown",
   "metadata": {},
   "source": [
    "Are all data available for each row and column?"
   ]
  },
  {
   "cell_type": "markdown",
   "metadata": {},
   "source": [
    "No, not all the values were available for each row and column, as many Unknown values were there in the District series of the dataframe. Similarly the Tested series has many NaN values initially.\n",
    "All these rows had to be cleared out for a good exploration of the dataset.\n",
    "Also the data wasn't particularly available for each State from the date of 26-04-2020, as shown below:"
   ]
  },
  {
   "cell_type": "code",
   "execution_count": 69,
   "metadata": {},
   "outputs": [
    {
     "data": {
      "text/html": [
       "<div>\n",
       "<style scoped>\n",
       "    .dataframe tbody tr th:only-of-type {\n",
       "        vertical-align: middle;\n",
       "    }\n",
       "\n",
       "    .dataframe tbody tr th {\n",
       "        vertical-align: top;\n",
       "    }\n",
       "\n",
       "    .dataframe thead th {\n",
       "        text-align: right;\n",
       "    }\n",
       "</style>\n",
       "<table border=\"1\" class=\"dataframe\">\n",
       "  <thead>\n",
       "    <tr style=\"text-align: right;\">\n",
       "      <th></th>\n",
       "      <th>Date</th>\n",
       "      <th>State</th>\n",
       "      <th>District</th>\n",
       "      <th>Confirmed</th>\n",
       "      <th>Recovered</th>\n",
       "      <th>Deceased</th>\n",
       "      <th>Other</th>\n",
       "      <th>Tested</th>\n",
       "      <th>month</th>\n",
       "    </tr>\n",
       "  </thead>\n",
       "  <tbody>\n",
       "    <tr>\n",
       "      <th>74341</th>\n",
       "      <td>2020-08-25</td>\n",
       "      <td>Kerala</td>\n",
       "      <td>Malappuram</td>\n",
       "      <td>7771</td>\n",
       "      <td>4522</td>\n",
       "      <td>21</td>\n",
       "      <td>5</td>\n",
       "      <td>102750.0</td>\n",
       "      <td>8</td>\n",
       "    </tr>\n",
       "    <tr>\n",
       "      <th>74994</th>\n",
       "      <td>2020-08-26</td>\n",
       "      <td>Kerala</td>\n",
       "      <td>Malappuram</td>\n",
       "      <td>8123</td>\n",
       "      <td>4776</td>\n",
       "      <td>21</td>\n",
       "      <td>5</td>\n",
       "      <td>104575.0</td>\n",
       "      <td>8</td>\n",
       "    </tr>\n",
       "    <tr>\n",
       "      <th>74995</th>\n",
       "      <td>2020-08-26</td>\n",
       "      <td>Kerala</td>\n",
       "      <td>Palakkad</td>\n",
       "      <td>4137</td>\n",
       "      <td>3389</td>\n",
       "      <td>3</td>\n",
       "      <td>2</td>\n",
       "      <td>92805.0</td>\n",
       "      <td>8</td>\n",
       "    </tr>\n",
       "    <tr>\n",
       "      <th>75641</th>\n",
       "      <td>2020-08-27</td>\n",
       "      <td>Kerala</td>\n",
       "      <td>Idukki</td>\n",
       "      <td>1620</td>\n",
       "      <td>1269</td>\n",
       "      <td>3</td>\n",
       "      <td>1</td>\n",
       "      <td>41371.0</td>\n",
       "      <td>8</td>\n",
       "    </tr>\n",
       "    <tr>\n",
       "      <th>75646</th>\n",
       "      <td>2020-08-27</td>\n",
       "      <td>Kerala</td>\n",
       "      <td>Kozhikode</td>\n",
       "      <td>4830</td>\n",
       "      <td>3146</td>\n",
       "      <td>27</td>\n",
       "      <td>5</td>\n",
       "      <td>169786.0</td>\n",
       "      <td>8</td>\n",
       "    </tr>\n",
       "    <tr>\n",
       "      <th>...</th>\n",
       "      <td>...</td>\n",
       "      <td>...</td>\n",
       "      <td>...</td>\n",
       "      <td>...</td>\n",
       "      <td>...</td>\n",
       "      <td>...</td>\n",
       "      <td>...</td>\n",
       "      <td>...</td>\n",
       "      <td>...</td>\n",
       "    </tr>\n",
       "    <tr>\n",
       "      <th>94603</th>\n",
       "      <td>2020-09-25</td>\n",
       "      <td>Kerala</td>\n",
       "      <td>Kozhikode</td>\n",
       "      <td>13793</td>\n",
       "      <td>9213</td>\n",
       "      <td>60</td>\n",
       "      <td>5</td>\n",
       "      <td>317913.0</td>\n",
       "      <td>9</td>\n",
       "    </tr>\n",
       "    <tr>\n",
       "      <th>94604</th>\n",
       "      <td>2020-09-25</td>\n",
       "      <td>Kerala</td>\n",
       "      <td>Malappuram</td>\n",
       "      <td>17596</td>\n",
       "      <td>13589</td>\n",
       "      <td>60</td>\n",
       "      <td>6</td>\n",
       "      <td>148341.0</td>\n",
       "      <td>9</td>\n",
       "    </tr>\n",
       "    <tr>\n",
       "      <th>94605</th>\n",
       "      <td>2020-09-25</td>\n",
       "      <td>Kerala</td>\n",
       "      <td>Palakkad</td>\n",
       "      <td>9026</td>\n",
       "      <td>6341</td>\n",
       "      <td>26</td>\n",
       "      <td>2</td>\n",
       "      <td>139773.0</td>\n",
       "      <td>9</td>\n",
       "    </tr>\n",
       "    <tr>\n",
       "      <th>94606</th>\n",
       "      <td>2020-09-25</td>\n",
       "      <td>Kerala</td>\n",
       "      <td>Pathanamthitta</td>\n",
       "      <td>6467</td>\n",
       "      <td>4881</td>\n",
       "      <td>3</td>\n",
       "      <td>2</td>\n",
       "      <td>108245.0</td>\n",
       "      <td>9</td>\n",
       "    </tr>\n",
       "    <tr>\n",
       "      <th>94609</th>\n",
       "      <td>2020-09-25</td>\n",
       "      <td>Kerala</td>\n",
       "      <td>Wayanad</td>\n",
       "      <td>2881</td>\n",
       "      <td>2168</td>\n",
       "      <td>5</td>\n",
       "      <td>0</td>\n",
       "      <td>80272.0</td>\n",
       "      <td>9</td>\n",
       "    </tr>\n",
       "  </tbody>\n",
       "</table>\n",
       "<p>191 rows × 9 columns</p>\n",
       "</div>"
      ],
      "text/plain": [
       "            Date   State        District  Confirmed  Recovered  Deceased  \\\n",
       "74341 2020-08-25  Kerala      Malappuram       7771       4522        21   \n",
       "74994 2020-08-26  Kerala      Malappuram       8123       4776        21   \n",
       "74995 2020-08-26  Kerala        Palakkad       4137       3389         3   \n",
       "75641 2020-08-27  Kerala          Idukki       1620       1269         3   \n",
       "75646 2020-08-27  Kerala       Kozhikode       4830       3146        27   \n",
       "...          ...     ...             ...        ...        ...       ...   \n",
       "94603 2020-09-25  Kerala       Kozhikode      13793       9213        60   \n",
       "94604 2020-09-25  Kerala      Malappuram      17596      13589        60   \n",
       "94605 2020-09-25  Kerala        Palakkad       9026       6341        26   \n",
       "94606 2020-09-25  Kerala  Pathanamthitta       6467       4881         3   \n",
       "94609 2020-09-25  Kerala         Wayanad       2881       2168         5   \n",
       "\n",
       "       Other    Tested  month  \n",
       "74341      5  102750.0      8  \n",
       "74994      5  104575.0      8  \n",
       "74995      2   92805.0      8  \n",
       "75641      1   41371.0      8  \n",
       "75646      5  169786.0      8  \n",
       "...      ...       ...    ...  \n",
       "94603      5  317913.0      9  \n",
       "94604      6  148341.0      9  \n",
       "94605      2  139773.0      9  \n",
       "94606      2  108245.0      9  \n",
       "94609      0   80272.0      9  \n",
       "\n",
       "[191 rows x 9 columns]"
      ]
     },
     "execution_count": 69,
     "metadata": {},
     "output_type": "execute_result"
    }
   ],
   "source": [
    "df.loc[df['State']=='Kerala']"
   ]
  },
  {
   "cell_type": "markdown",
   "metadata": {},
   "source": [
    "As shown above, the data for Kerala is unavailable upto 24-08-2020, and is available only from 25-08-2020 to till date."
   ]
  },
  {
   "cell_type": "markdown",
   "metadata": {},
   "source": [
    "What can be said w.r.t. the performance of the states in terms of tackling the pandemic?"
   ]
  },
  {
   "cell_type": "markdown",
   "metadata": {},
   "source": [
    "The performance varies greatly for many states, as there are states such as Gujarat and Madhya Pradesh, who besides having many cases in early stages were able to curb the spread very much. Whereas states such as Andhra Pradesh and Karnataka, saw the increase in the caseloads only after the upliftment of lockdown restrictions. So these two states can be considered to be performing below average in terms of tackling the virus spread."
   ]
  },
  {
   "cell_type": "markdown",
   "metadata": {},
   "source": [
    "Is there any corelation between no. of testing done and no. of confirmed cases?"
   ]
  },
  {
   "cell_type": "markdown",
   "metadata": {},
   "source": [
    "Yes, there seems to be a linear relation between the two factors. As for Andhra Pradesh, a huge no. of confirmed cases can be observed in context to the large no. of testing done. For other states having more positive cases, it may be the case that as no. of testing was less, hence less no. of confirmed cases were reported."
   ]
  },
  {
   "cell_type": "markdown",
   "metadata": {},
   "source": [
    "Comment on the mortality rate of the top three states having maximum caseload."
   ]
  },
  {
   "cell_type": "markdown",
   "metadata": {},
   "source": [
    "The mortality rate is highest for Maharashtra, followed by Tamil Nadu,Karnataka and Andhra Pradesh. Also, the less linear and more constant mortality rate is a good sign for Andhra Pradesh, as considering it's position in terms of confirmed cases higher than Karnataka, it has less no. of deaths than the other three and the death reath is decreasing further."
   ]
  },
  {
   "cell_type": "code",
   "execution_count": 67,
   "metadata": {},
   "outputs": [],
   "source": [
    "import jovian"
   ]
  },
  {
   "cell_type": "code",
   "execution_count": 68,
   "metadata": {},
   "outputs": [
    {
     "data": {
      "application/javascript": [
       "window.require && require([\"base/js/namespace\"],function(Jupyter){Jupyter.notebook.save_checkpoint()})"
      ],
      "text/plain": [
       "<IPython.core.display.Javascript object>"
      ]
     },
     "metadata": {},
     "output_type": "display_data"
    },
    {
     "name": "stdout",
     "output_type": "stream",
     "text": [
      "[jovian] Attempting to save notebook..\u001b[0m\n",
      "[jovian] Updating notebook \"iamshivamshekhar/zerotopandas-course-project-starter\" on https://jovian.ml/\u001b[0m\n",
      "[jovian] Uploading notebook..\u001b[0m\n",
      "[jovian] Capturing environment..\u001b[0m\n",
      "[jovian] Committed successfully! https://jovian.ml/iamshivamshekhar/zerotopandas-course-project-starter\u001b[0m\n"
     ]
    },
    {
     "data": {
      "text/plain": [
       "'https://jovian.ml/iamshivamshekhar/zerotopandas-course-project-starter'"
      ]
     },
     "execution_count": 68,
     "metadata": {},
     "output_type": "execute_result"
    }
   ],
   "source": [
    "jovian.commit()"
   ]
  },
  {
   "cell_type": "markdown",
   "metadata": {},
   "source": [
    "## Inferences and Conclusion\n",
    "\n",
    "TODO"
   ]
  },
  {
   "cell_type": "markdown",
   "metadata": {},
   "source": [
    "During the above study, a no. of inferences can be drawn.  "
   ]
  },
  {
   "cell_type": "markdown",
   "metadata": {},
   "source": [
    "The more no. of confirmed cases might be a result of more testing done for some states, as with Andhra Pradesh."
   ]
  },
  {
   "cell_type": "markdown",
   "metadata": {},
   "source": [
    "The performance of states can be judged by observing their relative position in the lockdown phase with the current time.\n",
    "Some states saw a sudden jump in cases with upliftment of lockdown, and some managed to curb the spread to great extent."
   ]
  },
  {
   "cell_type": "markdown",
   "metadata": {},
   "source": [
    "The mortality rate of each state is the right factor for analyzing the healthcare performance of the states, as for Andhra Pradesh, even after the sudden jump in cases, it managed to keep it's mortality rate rise lower than a linear relation.\n",
    "Also it has less no. of deaths than Karnataka, even after having more no. of cases than it."
   ]
  },
  {
   "cell_type": "code",
   "execution_count": 69,
   "metadata": {},
   "outputs": [],
   "source": [
    "import jovian"
   ]
  },
  {
   "cell_type": "code",
   "execution_count": null,
   "metadata": {},
   "outputs": [
    {
     "data": {
      "application/javascript": [
       "window.require && require([\"base/js/namespace\"],function(Jupyter){Jupyter.notebook.save_checkpoint()})"
      ],
      "text/plain": [
       "<IPython.core.display.Javascript object>"
      ]
     },
     "metadata": {},
     "output_type": "display_data"
    },
    {
     "name": "stdout",
     "output_type": "stream",
     "text": [
      "[jovian] Attempting to save notebook..\u001b[0m\n"
     ]
    }
   ],
   "source": [
    "jovian.commit()\n"
   ]
  },
  {
   "cell_type": "markdown",
   "metadata": {},
   "source": [
    "## References and Future Work\n",
    "\n",
    "TODO"
   ]
  },
  {
   "cell_type": "code",
   "execution_count": null,
   "metadata": {},
   "outputs": [],
   "source": [
    "import jovian"
   ]
  },
  {
   "cell_type": "code",
   "execution_count": null,
   "metadata": {},
   "outputs": [],
   "source": [
    "jovian.commit()"
   ]
  },
  {
   "cell_type": "code",
   "execution_count": null,
   "metadata": {},
   "outputs": [],
   "source": []
  }
 ],
 "metadata": {
  "kernelspec": {
   "display_name": "Python 3",
   "language": "python",
   "name": "python3"
  },
  "language_info": {
   "codemirror_mode": {
    "name": "ipython",
    "version": 3
   },
   "file_extension": ".py",
   "mimetype": "text/x-python",
   "name": "python",
   "nbconvert_exporter": "python",
   "pygments_lexer": "ipython3",
   "version": "3.8.5"
  }
 },
 "nbformat": 4,
 "nbformat_minor": 4
}
